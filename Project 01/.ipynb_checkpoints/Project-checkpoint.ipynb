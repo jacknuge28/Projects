{
 "cells": [
  {
   "cell_type": "markdown",
   "metadata": {},
   "source": [
    "# CMSE201 Final Project\n",
    "### Jack Nugent\n",
    "### Section_005\n",
    "#### April 15th, 2021"
   ]
  },
  {
   "cell_type": "markdown",
   "metadata": {},
   "source": [
    "## 1. Project: Socioeconomic Factors and COVID-19\n",
    "### 1.1 Background\n",
    "March 11th, 2020, the World Health Organization declared a global pandemic due to COVID-19. At the time there was already 110,000 cases of COVID-19. As of today, the total cases exceeds 135 million, and the death count nears 3 million. These numbers are at their highest in the United States, and as such COVID-19 has been a huge part of daily life this past year, especially as college students. While there are some obvious factors in people's lives that put them at risk more so that others, such as age or preexisting medical conditions, something less talked about is if quality of life itself can be a predisposition to COVID-19. By observing data collected from the United States Census, we can observe quality of life of a region measured by its per-capita income, and I believe that a higher per-capita income would lead to a lower COVID-19 infection rate in a region. The big question here is **is there a relation between a region's quality of life and COVID-19 rate?**"
   ]
  },
  {
   "cell_type": "markdown",
   "metadata": {},
   "source": [
    "### 1.2 Methodology\n",
    "We will mainly use interactive maps of Michigan, segmented by county, to look for correlation between per-capita income of a county and confirmed cases of COVID-19 in that county."
   ]
  },
  {
   "cell_type": "code",
   "execution_count": null,
   "metadata": {},
   "outputs": [],
   "source": [
    "import numpy as np\n",
    "import pandas as pd\n",
    "pd.options.mode.chained_assignment = None  # default='warn'\n",
    "import matplotlib.pyplot as plt\n",
    "import plotly.express as px\n",
    "import seaborn as sns"
   ]
  },
  {
   "cell_type": "markdown",
   "metadata": {},
   "source": [
    "### 1.3 Data\n",
    "#### 1.3.1 INCOME DATA"
   ]
  },
  {
   "cell_type": "markdown",
   "metadata": {},
   "source": [
    "By observing per-capita household income of counties in Michigan, we can get a rough estimate of quality of life in the county. The data we will be using for income comes from the 2010 United States Census data, imported by Pandas below."
   ]
  },
  {
   "cell_type": "code",
   "execution_count": null,
   "metadata": {},
   "outputs": [],
   "source": [
    "income = pd.read_csv(\"Income-by-County-2010_FP.csv\")\n",
    "income.head()"
   ]
  },
  {
   "cell_type": "markdown",
   "metadata": {},
   "source": [
    "The following plot shows a brief barplot as to how the per capita income compares across all of the counties in Michigan. Note that Oakland County (FIPS Code 26125) is significantly higher than all other counties in Michigan"
   ]
  },
  {
   "cell_type": "code",
   "execution_count": null,
   "metadata": {},
   "outputs": [],
   "source": [
    "plt.figure(figsize=(18,11))\n",
    "color = ['green', 'pink']\n",
    "plt.bar(income['FIPS'], income['Per capitaincome'], width = 1.5, color = color, edgecolor = 'black',  linewidth = 1.1)\n",
    "plt.xlabel('FIPS Code')\n",
    "plt.ylabel(\"Per Capita Income\")\n",
    "plt.xticks(np.arange(min(income['FIPS']), max(income['FIPS']) + 1, 8.0))\n",
    "plt.xticks(rotation = 40)\n",
    "plt.title(\"Distribition of Income per-Capita Across Michigan\")\n",
    "plt.grid(axis = 'y', alpha = 0.35)"
   ]
  },
  {
   "cell_type": "markdown",
   "metadata": {},
   "source": [
    "#### 1.3.2 COVID-19 DATA\n"
   ]
  },
  {
   "cell_type": "markdown",
   "metadata": {},
   "source": [
    "The Michigan government has made COVID-19 case data avaialble to the public. `Cases_and_Deaths_by_County.csv` contains the data on confirmed and probable COVID-19 diagnoses in Michigan."
   ]
  },
  {
   "cell_type": "code",
   "execution_count": null,
   "metadata": {},
   "outputs": [],
   "source": [
    "covid = pd.read_csv(\"Cases_and_Deaths_by_County.csv\")\n",
    "covid.head()"
   ]
  },
  {
   "cell_type": "markdown",
   "metadata": {},
   "source": [
    "For this project, we'll just focus on confirmed COVID cases across Michigan."
   ]
  },
  {
   "cell_type": "code",
   "execution_count": null,
   "metadata": {},
   "outputs": [],
   "source": [
    "confirmedMask = covid['CASE_STATUS'] == 'Confirmed'\n",
    "covidConfirmed = covid[confirmedMask]\n",
    "covidConfirmed.head()"
   ]
  },
  {
   "cell_type": "markdown",
   "metadata": {},
   "source": [
    "#### 1.3.3 GEO DATA"
   ]
  },
  {
   "cell_type": "markdown",
   "metadata": {},
   "source": [
    "The following cell loads in the essential data used for creating the choropleth maps. This file contains a list of all of the counties in the United States, indexed by their FIPS code."
   ]
  },
  {
   "cell_type": "code",
   "execution_count": null,
   "metadata": {},
   "outputs": [],
   "source": [
    "from urllib.request import urlopen\n",
    "import json\n",
    "with urlopen('https://raw.githubusercontent.com/plotly/datasets/master/geojson-counties-fips.json') as response:\n",
    "    counties = json.load(response)\n",
    "\n",
    "#counties[\"features\"][0]"
   ]
  },
  {
   "cell_type": "code",
   "execution_count": null,
   "metadata": {},
   "outputs": [],
   "source": [
    "from urllib.request import urlopen\n",
    "import json\n",
    "import numpy as np\n",
    "import pandas as pd\n",
    "pd.options.mode.chained_assignment = None  # default='warn'\n",
    "import matplotlib.pyplot as plt\n",
    "import plotly.express as px\n",
    "\n",
    "with urlopen('https://raw.githubusercontent.com/plotly/datasets/master/geojson-counties-fips.json') as response:\n",
    "    counties = json.load(response)\n",
    "income = pd.read_csv(\"Income-by-County-2010_FP.csv\")\n",
    "\n",
    "# Construct map based on income dataframe\n",
    "fig = px.choropleth_mapbox(income, geojson=counties, color='Per capitaincome',\n",
    "                    color_continuous_scale=\"Viridis\",\n",
    "                           range_color=(15000,35000),\n",
    "                    locations=\"FIPS\",\n",
    "                    mapbox_style = \"carto-positron\",\n",
    "                    opacity = 0.5,\n",
    "                    zoom=5.3, center = {\"lat\": 44.4984, \"lon\": -84.5920}\n",
    "                   )\n",
    "fig.update_geos(fitbounds=\"locations\", visible=False)\n",
    "fig.update_layout(margin={\"r\":0,\"t\":0,\"l\":0,\"b\":0})\n",
    "fig.show()"
   ]
  },
  {
   "cell_type": "markdown",
   "metadata": {},
   "source": [
    "### 1.4 CHOROPLETHS"
   ]
  },
  {
   "cell_type": "markdown",
   "metadata": {},
   "source": [
    "Choropleth maps are a type of proportion map, using shading or coloring to show differences in proportions of a variable within each area."
   ]
  },
  {
   "cell_type": "markdown",
   "metadata": {},
   "source": [
    "While the choropleth map can support the entirety of the USA with these FIPS codes, we just want to focus on Michigan. Here we construct an interactive map of Michigan segmented by county. The lighter (more yellow) the region, the higher the income."
   ]
  },
  {
   "cell_type": "code",
   "execution_count": null,
   "metadata": {},
   "outputs": [],
   "source": [
    "from urllib.request import urlopen\n",
    "import json\n",
    "with urlopen('https://raw.githubusercontent.com/plotly/datasets/master/geojson-counties-fips.json') as response:\n",
    "    counties = json.load(response)\n",
    "    \n",
    "# Construct map based on income dataframe\n",
    "fig = px.choropleth_mapbox(income, geojson=counties, color='Per capitaincome',\n",
    "                    color_continuous_scale=\"Viridis\",\n",
    "                           range_color=(15000,35000),\n",
    "                    locations=\"FIPS\",\n",
    "                    mapbox_style = \"carto-positron\",\n",
    "                    opacity = 0.5,\n",
    "                    zoom=5.3, center = {\"lat\": 44.4984, \"lon\": -84.5920}\n",
    "                   )\n",
    "fig.update_geos(fitbounds=\"locations\", visible=False)\n",
    "fig.update_layout(margin={\"r\":0,\"t\":0,\"l\":0,\"b\":0})\n",
    "fig.show()"
   ]
  },
  {
   "cell_type": "code",
   "execution_count": null,
   "metadata": {},
   "outputs": [],
   "source": [
    "# Construct map based on income dataframe\n",
    "fig = px.choropleth(income, geojson=counties, color='Per capitaincome',\n",
    "                    color_continuous_scale=\"Viridis\",\n",
    "                           range_color=(15000,35000),\n",
    "                    locations=\"FIPS\",\n",
    "                    projection=\"mercator\",\n",
    "                   )\n",
    "fig.update_geos(fitbounds=\"locations\", visible=False)\n",
    "fig.update_layout(margin={\"r\":0,\"t\":0,\"l\":0,\"b\":0})\n",
    "fig.show()"
   ]
  },
  {
   "cell_type": "markdown",
   "metadata": {},
   "source": [
    "The following cell allows for you to enter a Michigan FIPS code, seen by hovering over the map of Michigan, and obtaining the county name."
   ]
  },
  {
   "cell_type": "code",
   "execution_count": null,
   "metadata": {},
   "outputs": [],
   "source": [
    "### Change to 1 to evaluate Cell\n",
    "RUN = 0\n",
    "###\n",
    "\n",
    "FIPSList = []\n",
    "for i in range(len(covidConfirmed['FIPS'])):\n",
    "    FIPSList.append(covidConfirmed['FIPS'][i])\n",
    "\n",
    "if(RUN): \n",
    "    while(True):\n",
    "        fipsInput = int(input(\"Enter a FIPS Code for Lookup: \"))\n",
    "        \n",
    "        if(fipsInput not in FIPSList):\n",
    "            print(\"Sorry, that entry was not a supported FIPS Code, please try another!\\n\")\n",
    "            continue\n",
    "        else:\n",
    "            # Success!\n",
    "            break\n",
    "    countyName = covidConfirmed[covidConfirmed['FIPS'] == fipsInput]['COUNTY'].item()\n",
    "    print(\"This FIPS Code corresponds to {} County.\".format(countyName))"
   ]
  },
  {
   "cell_type": "markdown",
   "metadata": {},
   "source": [
    "This next map shows us a plot by county of confirmed COVID cases in Michigan."
   ]
  },
  {
   "cell_type": "code",
   "execution_count": null,
   "metadata": {},
   "outputs": [],
   "source": [
    "fig = px.choropleth(covidConfirmed, geojson=counties, color='Cases',\n",
    "                    color_continuous_scale=\"Viridis\",\n",
    "                           range_color=(0,max(covidConfirmed['Cases'])),\n",
    "                    locations=\"FIPS\",\n",
    "                    projection=\"mercator\"\n",
    "                   )\n",
    "fig.update_geos(fitbounds=\"locations\", visible=False)\n",
    "fig.update_layout(margin={\"r\":0,\"t\":0,\"l\":0,\"b\":0})\n",
    "fig.show()"
   ]
  },
  {
   "cell_type": "markdown",
   "metadata": {},
   "source": [
    "By reading this map we can see that Oakland County is again the highest datapoint with a confirmed case count of 65,700 cases. However, this plot doesn't show us much as it doesn't take into consideration population of the county."
   ]
  },
  {
   "cell_type": "code",
   "execution_count": null,
   "metadata": {},
   "outputs": [],
   "source": [
    "casesPerCap = covidConfirmed['Cases'] / income['Population']\n",
    "\n",
    "covidConfirmed.loc[:,'Cases per person'] = casesPerCap\n",
    "covidConfirmed.head()"
   ]
  },
  {
   "cell_type": "markdown",
   "metadata": {},
   "source": [
    "As before, the lighter (more yellow) the county, the higher the cases per person."
   ]
  },
  {
   "cell_type": "code",
   "execution_count": null,
   "metadata": {},
   "outputs": [],
   "source": [
    "# Construct map based on income dataframe\n",
    "fig = px.choropleth_mapbox(covidConfirmed, geojson=counties, color='Cases per person',\n",
    "                    color_continuous_scale=\"Viridis\",\n",
    "                           range_color=(0,max(covidConfirmed['Cases per person'])),\n",
    "                    locations=\"FIPS\",\n",
    "                    mapbox_style = \"carto-positron\",\n",
    "                    opacity = 0.5,\n",
    "                    zoom=5.3, center = {\"lat\": 44.4984, \"lon\": -84.5920}\n",
    "                   )\n",
    "fig.update_geos(fitbounds=\"locations\", visible=False)\n",
    "fig.update_layout(margin={\"r\":0,\"t\":0,\"l\":0,\"b\":0})\n",
    "fig.show()"
   ]
  },
  {
   "cell_type": "code",
   "execution_count": null,
   "metadata": {},
   "outputs": [],
   "source": [
    "fig = px.choropleth(covidConfirmed, geojson=counties, color='Cases per person',\n",
    "                    color_continuous_scale=\"Viridis\",\n",
    "                           range_color=(0,max(covidConfirmed['Cases per person'])),\n",
    "                    locations=\"FIPS\",\n",
    "                    projection=\"mercator\"\n",
    "                   )\n",
    "fig.update_geos(fitbounds=\"locations\", visible=False)\n",
    "fig.update_layout(margin={\"r\":0,\"t\":0,\"l\":0,\"b\":0})\n",
    "fig.show()"
   ]
  },
  {
   "cell_type": "markdown",
   "metadata": {},
   "source": [
    "### 1.5 Correlations"
   ]
  },
  {
   "cell_type": "markdown",
   "metadata": {},
   "source": [
    "This map of the cases per person in Michigan and the map of per-capita income seem to not be following the same trend, but to be certain we can calculate correlation between variables:"
   ]
  },
  {
   "cell_type": "code",
   "execution_count": null,
   "metadata": {},
   "outputs": [],
   "source": [
    "# Calculate correlation coefficient between per-capita income and cases per person\n",
    "corr = income['Per capitaincome'].corr(covidConfirmed['Cases per person'])\n",
    "print(\"The correlation coefficient between 'Per-capita Income' and 'Cases Per Person' in Michigan counties is {:.3f}.\".format(corr))\n",
    "\n",
    "# Plot original data\n",
    "plt.figure(figsize = (10,8))\n",
    "plt.scatter(income['Per capitaincome'], covidConfirmed['Cases per person'])\n",
    "\n",
    "# Construct Line of best fit to graph correlation\n",
    "m, b = np.polyfit(income['Per capitaincome'], covidConfirmed['Cases per person'], 1)\n",
    "plt.plot(income['Per capitaincome'], m*income['Per capitaincome'] + b, color = 'red', label = \"Best Fit\")\n",
    "\n",
    "plt.xlabel(\"Per-capita Income\")\n",
    "plt.ylabel(\"Cases per person\")\n",
    "plt.title(\"Correlation between Per-capita Income and COVID-19 Confirmed Cases by County\\n~All Counties~\")\n",
    "plt.grid(alpha = 0.25)\n",
    "plt.legend()"
   ]
  },
  {
   "cell_type": "markdown",
   "metadata": {},
   "source": [
    "A correlation value of $r$ = 0.102 is a very weak correlation, one weak enough that it leads me to believe the relation between pre-existing quality of life and COVID-19 susceptibility is non-existent. But what if we observed the relation between the majority of the region, ignoring the top four income counties who have sufficiently higher per-capita income than the rest of the region? These four counties are Leelanau (26089), Livingston (26093), Washtenaw (26161), and Oakland (26125), all with a per-capita income exceeding $30,000."
   ]
  },
  {
   "cell_type": "code",
   "execution_count": null,
   "metadata": {},
   "outputs": [],
   "source": [
    "# Mask out highest 4 income counties\n",
    "incomeMask = (income['FIPS'] != 26125) & (income['FIPS'] != 26089) & (income['FIPS'] != 26093) & (income['FIPS'] != 26161)\n",
    "incomeTemp = income[incomeMask]\n",
    "covidMask = (covidConfirmed['FIPS'] != 26125) & (covidConfirmed['FIPS'] != 26089) & (covidConfirmed['FIPS'] != 26093) & (covidConfirmed['FIPS'] != 26161)\n",
    "covidTemp = covidConfirmed[covidMask]\n",
    "\n",
    "# Recalculate correlation coefficient with outliers removed\n",
    "corr = incomeTemp['Per capitaincome'].corr(covidTemp['Cases per person'])\n",
    "print(\"The correlation coefficient between 'Per-capita Income' and 'Cases Per Person' in Michigan counties is {:.3f}.\".format(corr))\n",
    "\n",
    "# Plot original data\n",
    "plt.figure(figsize = (10,8))\n",
    "plt.scatter(incomeTemp['Per capitaincome'], covidTemp['Cases per person'])\n",
    "\n",
    "# Construct Line of best fit to graph correlation\n",
    "m, b = np.polyfit(incomeTemp['Per capitaincome'], covidTemp['Cases per person'], 1)\n",
    "plt.plot(incomeTemp['Per capitaincome'], m*incomeTemp['Per capitaincome'] + b, color = 'red', label = \"Best Fit\")\n",
    "\n",
    "plt.xlabel(\"Per-capita Income\")\n",
    "plt.ylabel(\"Cases per person\")\n",
    "plt.title(\"Correlation between Per-capita Income and COVID-19 Confirmed Cases by County\\n~Excluding Richest Four Counties~\")\n",
    "plt.grid(alpha = 0.25)\n",
    "plt.legend()"
   ]
  },
  {
   "cell_type": "markdown",
   "metadata": {},
   "source": [
    "The correlation coefficient nearly doubles, but $r$ = 0.203 is still a very weak correlation coefficient. Even factoring out the outlying datapoints we still have little to no true correlation between variables."
   ]
  },
  {
   "cell_type": "markdown",
   "metadata": {},
   "source": [
    "### 1.6 Results and Conclusion"
   ]
  },
  {
   "cell_type": "markdown",
   "metadata": {},
   "source": [
    "Looking at the income data and confirmed cases for counties in Michigan, it is obvious that certain regions have a large disparity in income, but no discernible correlation between income and COVID-19 infection rate. The correlation coefficient for the majority of the data, after exlcuding outliers, was still only a 0.203, which by all accounts does not suggest a strong relationship between the two variables. Based on this correlation value, we cannot suggest that there is a direct relation since this means that as per-capita income increases, the likelihood of confirmed cases per person being related decreases.\n",
    "\n",
    "While on the surface this may suggest that income and infection rate are not related, there are other factors outside of the raw income numbers that could be considered in terms of quality of life measurements. Those other factors such as infrastructure, political affiliation, willingness to get tested, age brackets, etc. that could all have an impact on an area's \"quality of life\", but were not things I had considered at first. Data from the Michigan.gov coronavirus statistics states that the 20-29 age group has more confirmed cases than any other age group. The high school I went to had 7,000 kids and faculty roaming the halls every day. This could cause a normal school day to be a super-spreader event, inflating the confirmed cases for a region with no bearing on income. If I had more time, or repeated this study again, I would look into more variables of each region, namely age, number of testing centers, and political party to see if any stronger trends could be identified.\n",
    "\n",
    "While my initial thoughts would have been that regions with higher average income levels would have lower COVID-19 infection rates, the generated polynomials actually suggest the opposite. At first I had figured that those with higher income could afford better health care, or afford to bear the oppurtunity costs of working frome home, but it seems that the data suggests that higher income areas have higher COVID rates. This leads me to believe that the higher income levels may possibly correlate to a higher number of testing centers or hopsitals, allowing for more tests to be conducted, meaning the cases per person may be inflated. Again, this is something I wish to look into more if I were to redo this study."
   ]
  },
  {
   "cell_type": "markdown",
   "metadata": {},
   "source": [
    "### REFERENCES\n",
    "\n",
    "“Mapbox Choropleth Maps.” Plotly, plotly.com/python/mapbox-county-choropleth/ \n",
    "\n",
    "“Michigan Data.” Coronavirus - Michigan Data, www.michigan.gov/coronavirus/0,9753,7-406-98163_98173---,00.html\n",
    "\n"
   ]
  },
  {
   "cell_type": "code",
   "execution_count": null,
   "metadata": {},
   "outputs": [],
   "source": []
  }
 ],
 "metadata": {
  "kernelspec": {
   "display_name": "Python 3",
   "language": "python",
   "name": "python3"
  },
  "language_info": {
   "codemirror_mode": {
    "name": "ipython",
    "version": 3
   },
   "file_extension": ".py",
   "mimetype": "text/x-python",
   "name": "python",
   "nbconvert_exporter": "python",
   "pygments_lexer": "ipython3",
   "version": "3.8.8"
  }
 },
 "nbformat": 4,
 "nbformat_minor": 4
}
