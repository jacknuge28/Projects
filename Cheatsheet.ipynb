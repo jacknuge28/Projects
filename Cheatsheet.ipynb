{
 "cells": [
  {
   "cell_type": "markdown",
   "id": "fdd2fffb",
   "metadata": {},
   "source": [
    "# Jack's CMSE201 Cheatsheet\n",
    "\n",
    "To be used in conjunction with the bootcamps and other class resources. Some of the topics are explained a bit more in-depth for those who want a deeper understanding of how to get the most out of Python.\n",
    "\n",
    "## Table of Contents:\n",
    "1. [Loops](#Loops)<br>\n",
    "    a. For Loops<br>\n",
    "    b. While Loops<br>\n",
    "    c. The Nested For Loop\n",
    "2. [Dictionaries (and some more on Lists)](#diction)<br>\n",
    "    a. The Basics<br>\n",
    "    b. More Complex Structures\n",
    "3. [If Statements](#if)<br>\n",
    "    a. The Basic `if-else` statement<br>\n",
    "    b. The `elif` statement\n",
    "4. [Functions](#func)<br>\n",
    "    a. The Basic Function<br>\n",
    "    b. Default Parameters\n",
    "5. [Matplotlib](#plot)<br>\n",
    "    a. What Is A \"Good\" Plot<br>\n",
    "    b. Other Optional Plotting Features<br>\n",
    "    c. The Subplot<br>\n",
    "    d. Which Graph To Use?\n",
    "6. [NumPy](#numpy)<br>\n",
    "    a. `loadtxt()`<br>\n",
    "    b. Arrays (1-D and 2-D)\n",
    "7. [Masking](#mask)<br>\n",
    "    a. NumPy <br>\n",
    "    b. Pandas"
   ]
  },
  {
   "cell_type": "code",
   "execution_count": 48,
   "id": "49f0b466",
   "metadata": {},
   "outputs": [],
   "source": [
    "import numpy as np\n",
    "import math \n",
    "import pandas as pd\n",
    "import matplotlib.pyplot as plt"
   ]
  },
  {
   "cell_type": "markdown",
   "id": "c86d33a2",
   "metadata": {},
   "source": [
    "<a id='Loops'></a>\n",
    "## 1. Loop Types\n",
    "The two main types of loops we use are **for loops** and **while loops**.\n",
    "\n",
    "A for loop is generally used when **we know how many times we want the loop to run**. \n",
    "A while loop is used when **we know what condition we want to stop at**. For the most part, I prefer to use for loops, but that's not to say while loops don't have their purpose!\n",
    "\n",
    "It is worth noting that *any loop can be written as a for loop*."
   ]
  },
  {
   "cell_type": "markdown",
   "id": "f4c71446",
   "metadata": {},
   "source": [
    "### 1.1 For Loops\n",
    "A more general case of loop, the for loop can be further broken into two main types of for loops:\n",
    "1. **Loop by Index**\n",
    "2. **Loop by Value**\n",
    "\n",
    "Loop by value is generally a simpler representation of a loop. If I have a list of values (or any container-like object), loop by value will **just** loop over that list of values. An example is given below."
   ]
  },
  {
   "cell_type": "code",
   "execution_count": 3,
   "id": "26866886",
   "metadata": {},
   "outputs": [
    {
     "name": "stdout",
     "output_type": "stream",
     "text": [
      "a\n",
      "b\n",
      "c\n",
      "d\n"
     ]
    }
   ],
   "source": [
    "# Loop by value\n",
    "list_of_vals = ['a', 'b', 'c', 'd']\n",
    "\n",
    "for val in list_of_vals:\n",
    "    print(val)"
   ]
  },
  {
   "cell_type": "markdown",
   "id": "f8531063",
   "metadata": {},
   "source": [
    "We can see that **looping by value** will show us the contents of the list. Simple, but not necessarily the easiest to work with when we get into more complex problems. \n",
    "\n",
    "What if I had two lists and wanted to print out the second value from each list? Looping by value won't work here because looping by value shows us **what** is in a list, but not **where** it is. If we want to access a certain value in a list, we need to use **looping by index**.\n",
    "\n",
    "Looping by index is very similar to looping by index, but requires a slightly more specific loop set-up. An example is given below."
   ]
  },
  {
   "cell_type": "code",
   "execution_count": 4,
   "id": "3b8214d9",
   "metadata": {},
   "outputs": [
    {
     "name": "stdout",
     "output_type": "stream",
     "text": [
      "a\n",
      "b\n",
      "c\n",
      "d\n"
     ]
    }
   ],
   "source": [
    "# Loop by index\n",
    "list_of_vals = ['a', 'b', 'c', 'd']\n",
    "\n",
    "for index in range(len(list_of_vals)):\n",
    "    print(list_of_vals[index])"
   ]
  },
  {
   "cell_type": "markdown",
   "id": "3c6095d8",
   "metadata": {},
   "source": [
    "We see that both the loop examples above give us the same values, so let's break down the loop by index code a bit more:\n",
    "\n",
    "`for index in range(len(list_name)):`\n",
    "\n",
    "`index`: The looping variable keeping track of the index we are at.\n",
    "\n",
    "`range(stop)`: A Python function that gives us a sequence of numbers. By default this will start at 0 and count upwards by 1 until reaching the number passed into the function. This is worth noting that it will count from 0 **up until** the stopping number, so if I wanted the numbers 0 through 5, I would call `range(6)`.\n",
    "\n",
    "`len(list_name)`: A Python function that returns an integer of how many items are in the list (or container-like object) that is passed in.\n",
    "\n",
    "By combining the `range()` and `len(list_name)` functions, we can set up our loop to count how many items we have in a list, as shown below. Remeber, in Python we start counting from 0, so a list of four items will be counted as \"0, 1, 2, 3\"."
   ]
  },
  {
   "cell_type": "code",
   "execution_count": 5,
   "id": "9fe313ac",
   "metadata": {},
   "outputs": [
    {
     "name": "stdout",
     "output_type": "stream",
     "text": [
      "0\n",
      "1\n",
      "2\n",
      "3\n"
     ]
    }
   ],
   "source": [
    "list_of_vals = ['a', 'b', 'c', 'd']\n",
    "\n",
    "for index in range(len(list_of_vals)):\n",
    "    print(index)"
   ]
  },
  {
   "cell_type": "markdown",
   "id": "939fbc85",
   "metadata": {},
   "source": [
    "Now that we have the **number of elements in our list**, we can work backwards and figure out the answer to questions such as \"What is the second element in our list?\" (Remember, second element in Python will be the element at index 1)."
   ]
  },
  {
   "cell_type": "code",
   "execution_count": 6,
   "id": "28d1f5af",
   "metadata": {},
   "outputs": [
    {
     "data": {
      "text/plain": [
       "'b'"
      ]
     },
     "execution_count": 6,
     "metadata": {},
     "output_type": "execute_result"
    }
   ],
   "source": [
    "list_of_vals[1]"
   ]
  },
  {
   "cell_type": "markdown",
   "id": "57cf6160",
   "metadata": {},
   "source": [
    "The element at index 1 is, in fact, the second element of our list! \n",
    "\n",
    "Now let's put all of the pieces together. With looping by index, we can then access the list at the element like so:"
   ]
  },
  {
   "cell_type": "code",
   "execution_count": 7,
   "id": "09239de6",
   "metadata": {},
   "outputs": [
    {
     "name": "stdout",
     "output_type": "stream",
     "text": [
      "a\n",
      "b\n",
      "c\n",
      "d\n"
     ]
    }
   ],
   "source": [
    "list_of_vals = ['a', 'b', 'c', 'd']\n",
    "\n",
    "for index in range(len(list_of_vals)):\n",
    "    print(list_of_vals[index])"
   ]
  },
  {
   "cell_type": "markdown",
   "id": "c0b5da8a",
   "metadata": {},
   "source": [
    "Looping by index is especially helpful when you have multiple lists, or just want certain elements from your list. Some examples are given below."
   ]
  },
  {
   "cell_type": "code",
   "execution_count": 9,
   "id": "36a7f4e6",
   "metadata": {},
   "outputs": [
    {
     "name": "stdout",
     "output_type": "stream",
     "text": [
      "a\n",
      "10\n",
      "b\n",
      "20\n",
      "c\n",
      "30\n",
      "d\n",
      "40\n"
     ]
    }
   ],
   "source": [
    "# Print one element of list_of_vals, then one element of list_of_nums, repeat for all values.\n",
    "list_of_vals = ['a', 'b', 'c', 'd']\n",
    "list_of_nums = [10, 20, 30, 40]\n",
    "\n",
    "for index in range(len(list_of_vals)):\n",
    "    print(list_of_vals[index])\n",
    "    print(list_of_nums[index])"
   ]
  },
  {
   "cell_type": "code",
   "execution_count": 11,
   "id": "63b65da1",
   "metadata": {},
   "outputs": [
    {
     "name": "stdout",
     "output_type": "stream",
     "text": [
      "b\n",
      "20\n"
     ]
    }
   ],
   "source": [
    "# Print the second value from each list.\n",
    "list_of_vals = ['a', 'b', 'c', 'd']\n",
    "list_of_nums = [10, 20, 30, 40]\n",
    "\n",
    "index = 1\n",
    "print(list_of_vals[index])\n",
    "print(list_of_nums[index])"
   ]
  },
  {
   "cell_type": "markdown",
   "id": "e2cb58d4",
   "metadata": {},
   "source": [
    "### 1.2 While Loops\n",
    "Hopefully a slightly less complex loop to comprehend, the while loop will execute while a given condition is true.\n",
    "\n",
    "The core components of the while loop itself is just the `while <condition>:`. Until that given condition is no longer true, the loop will run. \n",
    "\n",
    "The while loop does have some additional intricacies compared to the for loop. While loops can run into the issue of an **infinite loop**, where the condition is always true. In the following loop, if the `x += 1` line was not present, we would see the code cell would run forever (Feel free to delete that line and run the cell. Just make sure to STOP the cell from the Jupyter menus from Kernel -> Interrupt). This can be less obvious if the code cell in question has no print statement."
   ]
  },
  {
   "cell_type": "code",
   "execution_count": 14,
   "id": "40cad9d1",
   "metadata": {},
   "outputs": [
    {
     "name": "stdout",
     "output_type": "stream",
     "text": [
      "0\n",
      "1\n",
      "2\n",
      "3\n",
      "4\n"
     ]
    }
   ],
   "source": [
    "x = 0\n",
    "while x < 5:\n",
    "    print(x)\n",
    "    x += 1"
   ]
  },
  {
   "cell_type": "markdown",
   "id": "38ff9e1c",
   "metadata": {},
   "source": [
    "### 1.3 The Nested For Loop\n",
    "A nested for loop is simply one for loop inside of another for loop (can be infinitely chained).\n",
    "\n",
    "How this works is that the outer loop is triggered once, then the entirety of the inner loop. After the inner loop is completed we wrap back around to the outer loop's second trigger, execute the inner loop, and repeat until the outer loop is finished.\n",
    "\n",
    "One thing to note is **we need to use different iterating variables for both loops**. If my first loop is written as `for i in ...` then my second loop **should not use `i` as a variable name**. This will cause a lot of headache with your loops and, unless you very much know what you're doing and the task at hand calls for it, should be avoided 99% of the time. \n",
    "\n",
    "An example structure is given below. Note how `i` remains the same until we have finished printing every `j`, then `i` is updated on the next pass of the loop:"
   ]
  },
  {
   "cell_type": "code",
   "execution_count": 18,
   "id": "f5f29fd7",
   "metadata": {},
   "outputs": [
    {
     "name": "stdout",
     "output_type": "stream",
     "text": [
      "0 a\n",
      "0 b\n",
      "0 c\n",
      "\n",
      "1 a\n",
      "1 b\n",
      "1 c\n",
      "\n",
      "2 a\n",
      "2 b\n",
      "2 c\n",
      "\n"
     ]
    }
   ],
   "source": [
    "for i in range(3):\n",
    "    for j in ['a', 'b', 'c']:\n",
    "        print(i, j)\n",
    "    print()"
   ]
  },
  {
   "cell_type": "markdown",
   "id": "313a2aac",
   "metadata": {},
   "source": [
    "<a id='diction'></a>\n",
    "# 2. Dictionaries (and a little more of Lists)\n",
    "\n",
    "### 2.1 The Basics \n",
    "Dictionaries are a more complex data structure as compared to a list. While lists are set up with values separated by commas like:\n",
    "\n",
    "`[1,2,3]`\n",
    "\n",
    "Dictionaries are set up with key-value pairings like:\n",
    "\n",
    "`{key: value}`"
   ]
  },
  {
   "cell_type": "code",
   "execution_count": 4,
   "id": "d6eb7e3b",
   "metadata": {},
   "outputs": [],
   "source": [
    "list_example = [1,2,3,4]\n",
    "dict_example= {'first': 1, 'second': 2, 'third': 3, 'fourth': 4}"
   ]
  },
  {
   "cell_type": "markdown",
   "id": "b0d78d85",
   "metadata": {},
   "source": [
    "To access the values of items in a dictionary, you need to use the key as an index. We can use a variant of the looping by index strategy above to access the key:"
   ]
  },
  {
   "cell_type": "code",
   "execution_count": 5,
   "id": "ef788588",
   "metadata": {},
   "outputs": [
    {
     "name": "stdout",
     "output_type": "stream",
     "text": [
      "first\n",
      "second\n",
      "third\n",
      "fourth\n"
     ]
    }
   ],
   "source": [
    "for key in dict_example:\n",
    "    print(key)"
   ]
  },
  {
   "cell_type": "markdown",
   "id": "f8f74335",
   "metadata": {},
   "source": [
    "And then use the key as an index like so:"
   ]
  },
  {
   "cell_type": "code",
   "execution_count": 6,
   "id": "f61643ff",
   "metadata": {},
   "outputs": [
    {
     "name": "stdout",
     "output_type": "stream",
     "text": [
      "1\n",
      "2\n",
      "3\n",
      "4\n"
     ]
    }
   ],
   "source": [
    "for key in dict_example:\n",
    "    print(dict_example[key])"
   ]
  },
  {
   "cell_type": "markdown",
   "id": "e728b3f5",
   "metadata": {},
   "source": [
    "### 2.2 More complex structures\n",
    "Lists can hold single values in each element, but they can also hold other lists! The list-of-lists structure is fairly common, and knowing how to loop over them can be extremely helpful.\n"
   ]
  },
  {
   "cell_type": "code",
   "execution_count": 15,
   "id": "47bc2f0e",
   "metadata": {},
   "outputs": [
    {
     "name": "stdout",
     "output_type": "stream",
     "text": [
      "[1, 2, 3]\n",
      "[4, 5, 6]\n",
      "[7, 8, 9]\n"
     ]
    },
    {
     "data": {
      "text/plain": [
       "'\\nfor i in list_a:\\n    print(i)   \\n'"
      ]
     },
     "execution_count": 15,
     "metadata": {},
     "output_type": "execute_result"
    }
   ],
   "source": [
    "# Rows of a matrix\n",
    "list_a = [[1,2,3],\n",
    "          [4,5,6],\n",
    "          [7,8,9]]\n",
    "for i in range(len(list_a)):\n",
    "    print(list_a[i])\n",
    "    \n",
    "# The same loop but with looping by value.\n",
    "\n",
    "#    for i in list_a:\n",
    "#        print(i)   \n"
   ]
  },
  {
   "cell_type": "markdown",
   "id": "3b75f990",
   "metadata": {},
   "source": [
    "We can see here that, by looping over `list_a`'s values like normal, we get the **rows** of the matrix. To loop over each element, like to print the numbers 1 through 9 in order, we will need to use a **nested for loop** (Section 1.3)."
   ]
  },
  {
   "cell_type": "code",
   "execution_count": 14,
   "id": "d31ba40f",
   "metadata": {},
   "outputs": [
    {
     "name": "stdout",
     "output_type": "stream",
     "text": [
      "1\n",
      "2\n",
      "3\n",
      "4\n",
      "5\n",
      "6\n",
      "7\n",
      "8\n",
      "9\n"
     ]
    }
   ],
   "source": [
    "list_a = [[1,2,3],\n",
    "          [4,5,6],\n",
    "          [7,8,9]]\n",
    "# Row\n",
    "for i in range(len(list_a)):\n",
    "    row = list_a[i]\n",
    "    # Column of Row\n",
    "    for j in range(len(row)):\n",
    "        print(row[j])"
   ]
  },
  {
   "cell_type": "markdown",
   "id": "f419765f",
   "metadata": {},
   "source": [
    "<a id='if'></a>\n",
    "# 3. If Statements"
   ]
  },
  {
   "cell_type": "markdown",
   "id": "43f9c541",
   "metadata": {},
   "source": [
    "### 3.1 Basic `if-else` Statement\n",
    "The `if` statement can be thought of logically as `if True, then ...`. If the condition after `if` is True, *then* we do whatever is after the if statement. \n",
    "\n",
    "If statements generally include a general `else` statement as well, to be used for when the `if` statement is not True."
   ]
  },
  {
   "cell_type": "code",
   "execution_count": 23,
   "id": "15f2061e",
   "metadata": {},
   "outputs": [
    {
     "name": "stdout",
     "output_type": "stream",
     "text": [
      "0 Not Three!\n",
      "1 Not Three!\n",
      "2 Not Three!\n",
      "3 Three!\n",
      "4 Not Three!\n",
      "5 Not Three!\n"
     ]
    }
   ],
   "source": [
    "for i in range(6):\n",
    "    if i == 3:\n",
    "        print(i, \"Three!\")\n",
    "    else:\n",
    "        print(i, \"Not Three!\")"
   ]
  },
  {
   "cell_type": "markdown",
   "id": "5306888b",
   "metadata": {},
   "source": [
    "### 3.2 The `elif` Statement"
   ]
  },
  {
   "cell_type": "markdown",
   "id": "c7ac82c7",
   "metadata": {},
   "source": [
    "We see above that we only have two conditions, an `if` and an `else`. But what if we wanted to check multiple conditions? What if in the above cell we also wanted to check if the number was a 2 without adding another if statement?\n",
    "\n",
    "This is where the `elif` (else-if) comes into play. `elif` allows us to effectively check another specific condition after the `if` statement, but avoid the \"catch-all\" statement that is the `else`."
   ]
  },
  {
   "cell_type": "code",
   "execution_count": 22,
   "id": "eaec2c9b",
   "metadata": {},
   "outputs": [
    {
     "name": "stdout",
     "output_type": "stream",
     "text": [
      "0 Not Three or Four!\n",
      "1 Not Three or Four!\n",
      "2 Not Three or Four!\n",
      "3 Three!\n",
      "4 Four!\n",
      "5 Not Three or Four!\n"
     ]
    }
   ],
   "source": [
    "for i in range(6):\n",
    "    if i == 3:\n",
    "        print(i, \"Three!\")\n",
    "    elif i == 4:\n",
    "        print(i, \"Four!\")\n",
    "    else:\n",
    "        print(i, \"Not Three or Four!\")"
   ]
  },
  {
   "cell_type": "markdown",
   "id": "2f4d1264",
   "metadata": {},
   "source": [
    "<a id='func'></a>\n",
    "# 4. Functions\n",
    "\n",
    "### 4.1 The Basic Function\n",
    "Functions are great for repeated tasks, and can even be used between notebooks! These help for the readability of your code, making it so there's less copy-pasting and it's easier to see what is going on inside your code. The main things a function needs are a **name** and, if any, the **parameters**, or arguments, it needs to run.\n",
    "\n",
    "**The order of the parameters matters**! The order you define them in the function defintion is the same order you need to pass the variables in when calling your function. If you don't do this properly your code may still run but your output will not be what you want!\n",
    "\n",
    "If you want to use the output of a function again later, you will need a **return** function as well, though sometimes having a function `print` things is all you need.\n",
    "\n",
    "Both a skeleton of a function and some working examples are given below:"
   ]
  },
  {
   "cell_type": "code",
   "execution_count": 32,
   "id": "923aab8a",
   "metadata": {},
   "outputs": [
    {
     "name": "stdout",
     "output_type": "stream",
     "text": [
      "3\n"
     ]
    }
   ],
   "source": [
    "# Basic structure of a function\n",
    "def func_name(param_a, param_b):\n",
    "    return 0\n",
    "    \n",
    "# Addition with a return\n",
    "def addition(a, b):\n",
    "    a_plus_b = a+b\n",
    "    return a_plus_b\n",
    "\n",
    "c = addition(1,2)\n",
    "print(c)"
   ]
  },
  {
   "cell_type": "code",
   "execution_count": 33,
   "id": "be4131f1",
   "metadata": {},
   "outputs": [
    {
     "name": "stdout",
     "output_type": "stream",
     "text": [
      "3\n",
      "None\n"
     ]
    }
   ],
   "source": [
    "# Addition without a return, but with a print\n",
    "def addition_p(a, b):\n",
    "    a_plus_b = a+b\n",
    "    print(a_plus_b)\n",
    "    \n",
    "d = addition_p(1,2)\n",
    "print(d)"
   ]
  },
  {
   "cell_type": "markdown",
   "id": "519e38d2",
   "metadata": {},
   "source": [
    "In the first cell, we store the output of `addition` in the value `c`, then print that result. \n",
    "\n",
    "The second cell has two prints, the first one is within the function itself, so **any time the function is called, the print will happen**. But why does the second print statement print `None`? Shouldn't it print 3? \n",
    "\n",
    "By trying to store the results of `addition_p`, a function that **does not return its results**, Python did exactly that, it stored the results of the function in `d`, which is nothing! In the case of a function using a `print` with no `return`, you likely just need to call the function to see the information you want."
   ]
  },
  {
   "cell_type": "code",
   "execution_count": 31,
   "id": "ef4151fc",
   "metadata": {},
   "outputs": [
    {
     "name": "stdout",
     "output_type": "stream",
     "text": [
      "3\n"
     ]
    }
   ],
   "source": [
    "addition_p(1,2)"
   ]
  },
  {
   "cell_type": "markdown",
   "id": "07d8ff9f",
   "metadata": {},
   "source": [
    "### 4.2 Default Parameters\n",
    "You may notice some functions in class that have the same name but take different numbers of parameters. This is often due to \"default parameters\". \n",
    "\n",
    "In one of our favorite default Python functions `range()`, you may notice we always start from 0 and count up by 1. What if we wanted the numbers 100 through 105 from the range function?\n",
    "\n",
    "The `range()` function is actually written with three base parameters, in the form `range(start=0, stop, step=1)`. The equal signs here mean \"if no parameter is specified, **assume** this\". Some examples of playing around with the parameters are shown below."
   ]
  },
  {
   "cell_type": "code",
   "execution_count": 35,
   "id": "17ea9fc4",
   "metadata": {},
   "outputs": [
    {
     "name": "stdout",
     "output_type": "stream",
     "text": [
      "0\n",
      "1\n",
      "2\n",
      "3\n",
      "4\n"
     ]
    }
   ],
   "source": [
    "for i in range(5):\n",
    "    print(i)"
   ]
  },
  {
   "cell_type": "code",
   "execution_count": 37,
   "id": "36f82816",
   "metadata": {},
   "outputs": [
    {
     "name": "stdout",
     "output_type": "stream",
     "text": [
      "100\n",
      "101\n",
      "102\n",
      "103\n",
      "104\n"
     ]
    }
   ],
   "source": [
    "for i in range(100, 105):\n",
    "    print(i)"
   ]
  },
  {
   "cell_type": "code",
   "execution_count": 39,
   "id": "a330309d",
   "metadata": {},
   "outputs": [
    {
     "name": "stdout",
     "output_type": "stream",
     "text": [
      "0\n",
      "2\n",
      "4\n",
      "6\n",
      "8\n"
     ]
    }
   ],
   "source": [
    "for i in range(0, 10, 2):\n",
    "    print(i)"
   ]
  },
  {
   "cell_type": "code",
   "execution_count": 42,
   "id": "b237eae2",
   "metadata": {},
   "outputs": [
    {
     "name": "stdout",
     "output_type": "stream",
     "text": [
      "5\n",
      "4\n",
      "3\n",
      "2\n",
      "1\n"
     ]
    }
   ],
   "source": [
    "for i in range(5, 0, -1):\n",
    "    print(i)"
   ]
  },
  {
   "cell_type": "markdown",
   "id": "9d4e7ea0",
   "metadata": {},
   "source": [
    "Note that the `step` argument can be negative, which can be helpful in certain scenarios. \n",
    "\n",
    "To write a function using these default parameters, you just need to set an equal sign after the parameter name in the function definition, like so:"
   ]
  },
  {
   "cell_type": "code",
   "execution_count": 46,
   "id": "891f3316",
   "metadata": {},
   "outputs": [
    {
     "data": {
      "text/plain": [
       "15"
      ]
     },
     "execution_count": 46,
     "metadata": {},
     "output_type": "execute_result"
    }
   ],
   "source": [
    "def addition(a, b=10):\n",
    "    return (a+b)\n",
    "\n",
    "addition(5)"
   ]
  },
  {
   "cell_type": "markdown",
   "id": "29e534a0",
   "metadata": {},
   "source": [
    "Like before, the above function, when called, will add two numbers together. This time, if only one number is put in, it will default to adding 10 to that number."
   ]
  },
  {
   "cell_type": "markdown",
   "id": "1ca12a8c",
   "metadata": {},
   "source": [
    "<a id='plot'></a>\n",
    "# 5. Matplotlib\n",
    "A powerful plotting tool, `matplotlib` has far more capabilities than any one person will know. To that end, the [matplotlib documentation](https://matplotlib.org/) is insanely valuable.\n",
    "\n",
    "Showing examples of plots is tough to do because there's so many approaches, so we can start with what a basic \"well-labeled\" plot might look like."
   ]
  },
  {
   "cell_type": "markdown",
   "id": "e5bfc2b6",
   "metadata": {},
   "source": [
    "### 5.1 What is a \"Good\" Plot?"
   ]
  },
  {
   "cell_type": "code",
   "execution_count": 47,
   "id": "3c7d3c64",
   "metadata": {},
   "outputs": [],
   "source": [
    "import matplotlib.pyplot as plt"
   ]
  },
  {
   "cell_type": "code",
   "execution_count": 68,
   "id": "df4835df",
   "metadata": {},
   "outputs": [
    {
     "data": {
      "text/plain": [
       "[2, 1, 1, 7, 2, 3, 0, 8, 6, 4]"
      ]
     },
     "execution_count": 68,
     "metadata": {},
     "output_type": "execute_result"
    }
   ],
   "source": [
    "x_ary = [np.random.randint(10) for x in range(10)]\n",
    "x_ary"
   ]
  },
  {
   "cell_type": "code",
   "execution_count": 69,
   "id": "b0b71823",
   "metadata": {},
   "outputs": [
    {
     "data": {
      "text/plain": [
       "[3, 4, 6, 3, 0, 3, 3, 4, 8, 1]"
      ]
     },
     "execution_count": 69,
     "metadata": {},
     "output_type": "execute_result"
    }
   ],
   "source": [
    "y_ary = [np.random.randint(10) for y in range(10)]\n",
    "y_ary"
   ]
  },
  {
   "cell_type": "markdown",
   "id": "8f1954a3",
   "metadata": {},
   "source": [
    "Now we have two lists of ten randomly generated integers between 0 and 10. We can visualize this with a `scatter` plot. I chose a `.scatter()` over a regular `.plot()` because a `.plot()` graph tends to show that there is a relationship between one point and the previous one, but more on that later."
   ]
  },
  {
   "cell_type": "code",
   "execution_count": 71,
   "id": "0742f326",
   "metadata": {},
   "outputs": [
    {
     "data": {
      "text/plain": [
       "<matplotlib.collections.PathCollection at 0x7f7c50105910>"
      ]
     },
     "execution_count": 71,
     "metadata": {},
     "output_type": "execute_result"
    },
    {
     "data": {
      "image/png": "[encoded data removed]",
      "text/plain": [
       "<Figure size 432x288 with 1 Axes>"
      ]
     },
     "metadata": {
      "needs_background": "light"
     },
     "output_type": "display_data"
    }
   ],
   "source": [
    "plt.scatter(x_ary, y_ary)"
   ]
  },
  {
   "cell_type": "markdown",
   "id": "5f65ed49",
   "metadata": {},
   "source": [
    "Great! We can see our data plotted in (x, y) coordinates, but what does this mean? If we were to give this data to some random individual, would this have any significance? I know that for this example there is truly no meaning to the variables, but labelling is a good habit to get into for any plot."
   ]
  },
  {
   "cell_type": "code",
   "execution_count": 73,
   "id": "d513d7cb",
   "metadata": {},
   "outputs": [
    {
     "data": {
      "text/plain": [
       "Text(0.5, 1.0, 'Scatter plot of X vs Y')"
      ]
     },
     "execution_count": 73,
     "metadata": {},
     "output_type": "execute_result"
    },
    {
     "data": {
      "image/png": "[encoded data removed]",
      "text/plain": [
       "<Figure size 432x288 with 1 Axes>"
      ]
     },
     "metadata": {
      "needs_background": "light"
     },
     "output_type": "display_data"
    }
   ],
   "source": [
    "plt.scatter(x_ary, y_ary)\n",
    "plt.xlabel(\"X values\")\n",
    "plt.ylabel(\"Y values\")\n",
    "plt.title(\"Scatter plot of X vs Y\")"
   ]
  },
  {
   "cell_type": "markdown",
   "id": "20563f0f",
   "metadata": {},
   "source": [
    "Even better, now (if your data had meaning), it would be properly communicated to whoever is viewing this and your data means a lot more than just a random scatter plot. "
   ]
  },
  {
   "cell_type": "markdown",
   "id": "7044a5ca",
   "metadata": {},
   "source": [
    "### 5.2 Other Optional Plotting Features\n",
    "Some common features we tend to use in `matplotlib` are things like changing the color, or style, of the plotted data. If we had two sets of data plotted on one figure, if they were all the same color it could be pretty confusing!"
   ]
  },
  {
   "cell_type": "code",
   "execution_count": 74,
   "id": "6770c0e2",
   "metadata": {},
   "outputs": [],
   "source": [
    "x_ary2 = [np.random.randint(10) for x in range(10)]\n",
    "y_ary2 = [np.random.randint(10) for y in range(10)]"
   ]
  },
  {
   "cell_type": "code",
   "execution_count": 75,
   "id": "dff30f38",
   "metadata": {},
   "outputs": [
    {
     "data": {
      "text/plain": [
       "Text(0.5, 1.0, 'Scatter plot of X vs Y')"
      ]
     },
     "execution_count": 75,
     "metadata": {},
     "output_type": "execute_result"
    },
    {
     "data": {
      "image/png": "[encoded data removed]",
      "text/plain": [
       "<Figure size 432x288 with 1 Axes>"
      ]
     },
     "metadata": {
      "needs_background": "light"
     },
     "output_type": "display_data"
    }
   ],
   "source": [
    "plt.scatter(x_ary, y_ary)\n",
    "plt.scatter(x_ary2, y_ary2)\n",
    "plt.xlabel(\"X values\")\n",
    "plt.ylabel(\"Y values\")\n",
    "plt.title(\"Scatter plot of X vs Y\")"
   ]
  },
  {
   "cell_type": "markdown",
   "id": "2c25c73c",
   "metadata": {},
   "source": [
    "Sometimes, in cases like this, `matplotlib` is smart enough to automatically color the points for us. But if we want to do more, we can look up the documentation for [scatter](https://matplotlib.org/devdocs/api/_as_gen/matplotlib.pyplot.scatter.html) to see what else we can do with it. (The same goes for any type of plotting function, some functions may have specific arguments for that plotting type!)\n",
    "\n",
    "The following shows how the graph is affected by these changes, for example with some of these changes we actually see that at the point (3,3), there is both a red and a blue point, something we didn't see previously. **This is not to say that there is a one-size-fits-all approach to plotting with additional features**. This will almost always be different depending on the outcome you want to emphasize, and the data you want to convey to the reader."
   ]
  },
  {
   "cell_type": "code",
   "execution_count": 79,
   "id": "f1ed4037",
   "metadata": {},
   "outputs": [
    {
     "data": {
      "text/plain": [
       "Text(0.5, 1.0, 'Scatter plot of X vs Y')"
      ]
     },
     "execution_count": 79,
     "metadata": {},
     "output_type": "execute_result"
    },
    {
     "data": {
      "image/png": "[encoded data removed]",
      "text/plain": [
       "<Figure size 720x576 with 1 Axes>"
      ]
     },
     "metadata": {
      "needs_background": "light"
     },
     "output_type": "display_data"
    }
   ],
   "source": [
    "plt.figure(figsize=[10,8])\n",
    "plt.scatter(x_ary, y_ary, marker='x')\n",
    "plt.scatter(x_ary2, y_ary2, color='red', s = 10)\n",
    "plt.xlabel(\"X values\")\n",
    "plt.ylabel(\"Y values\")\n",
    "plt.title(\"Scatter plot of X vs Y\")"
   ]
  },
  {
   "cell_type": "markdown",
   "id": "2da848ce",
   "metadata": {},
   "source": [
    "### 5.3 The Subplot\n",
    "Rather than combine multiple datasets or lines onto one plot, we can make [subplots](https://matplotlib.org/stable/api/_as_gen/matplotlib.pyplot.subplot.html), which is multiple plots on the same figure. The common uses for subplots compared to making multiple plots are readability and the ability to share common axes.\n",
    "\n",
    "The standard procedure to creating subplots is <br>\n",
    "`plt.subplot(rows, cols, position)`, where position is a number between 1 and `rows*cols`\n",
    "\n",
    "The following example can be found in the Day 7 In-Class Assignment:"
   ]
  },
  {
   "cell_type": "code",
   "execution_count": 84,
   "id": "52b2ce16",
   "metadata": {},
   "outputs": [
    {
     "data": {
      "image/png": "[encoded data removed]",
      "text/plain": [
       "<Figure size 576x720 with 6 Axes>"
      ]
     },
     "metadata": {
      "needs_background": "light"
     },
     "output_type": "display_data"
    }
   ],
   "source": [
    "# initialize lists\n",
    "x_list = []\n",
    "y1 = []\n",
    "y2 = []\n",
    "y3 = []\n",
    "y4 = []\n",
    "y5 = []\n",
    "y6 = []\n",
    "\n",
    "# fill lists with values\n",
    "for i in range(100):\n",
    "    x = i*0.1\n",
    "    x_list.append(x)\n",
    "    y1.append(math.sin(x))\n",
    "    y2.append(math.sin(2*x))\n",
    "    y3.append(math.sin(3*x))\n",
    "    y4.append(math.sin(4*x))\n",
    "    y5.append(math.sin(5*x))\n",
    "    y6.append(math.sin(6*x))\n",
    "\n",
    "# makes a single figure that is 8 in wide and 10 in tall\n",
    "plt.figure(figsize=(8,10))\n",
    "plt.suptitle('A bunch of sine plots')  # title for the whole figure\n",
    "\n",
    "\n",
    "# plot each curve on a separate subplot\n",
    "plt.subplot(3,2,1) # Generate the 1st subplot of a 3x2 set of plots\n",
    "plt.plot(x_list, y1, color='red') # plot points in the first subplot\n",
    "plt.xlabel('x')\n",
    "plt.ylabel('y')\n",
    "plt.title('y=sin(x)')  # title for 1st subplot\n",
    "\n",
    "plt.subplot(3,2,2) # Generate the 2nd subplot of a 3x2 set of plots\n",
    "plt.plot(x_list, y2, color='blue') # plot points in the second subplot\n",
    "plt.xlabel('x')\n",
    "plt.ylabel('y')\n",
    "plt.title('y=sin(2x)')\n",
    "\n",
    "plt.subplot(3,2,3) # Generate the 3rd subplot of a 3x2 set of plots\n",
    "plt.plot(x_list, y3, color='green') # plot points in the third subplot\n",
    "plt.xlabel('x')\n",
    "plt.ylabel('y')\n",
    "plt.title('y=sin(3x)')\n",
    "\n",
    "plt.subplot(3,2,4) # Generate the 4th subplot of a 3x2 set of plots\n",
    "plt.plot(x_list, y4, color='orange') # plot points in the fourth subplot\n",
    "plt.xlabel('x')\n",
    "plt.ylabel('y')\n",
    "plt.title('y=sin(4x)')\n",
    "\n",
    "plt.subplot(3,2,5) # Generate the 5th subplot of a 3x2 set of plots\n",
    "plt.plot(x_list, y5, color='black') # plot points in the fifth subplot\n",
    "plt.xlabel('x')\n",
    "plt.ylabel('y')\n",
    "plt.title('y=sin(5x)')\n",
    "\n",
    "plt.subplot(3,2,6) # Generate the 6th subplot of a 3x2 set of plots\n",
    "plt.plot(x_list, y6, color='purple') # plot points in the sixth subplot\n",
    "plt.xlabel('x')\n",
    "plt.ylabel('y')\n",
    "plt.title('y=sin(6x)')\n",
    "\n",
    "plt.tight_layout()"
   ]
  },
  {
   "cell_type": "markdown",
   "id": "4c219042",
   "metadata": {},
   "source": [
    "### 5.4 Which graph to use?\n",
    "This is slightly more anecdotal, but this is my personal thinking process for how I choose what type of graph to use when visualizing my data:\n",
    "\n",
    "1. `plt.plot()`: Used when I want to visualize the relationship between two variables **over a continuous time period**.\n",
    "2. `plt.scatter()`: Used when I want to visualize the relationship between two variables **with no direct time correlation**.\n",
    "3. `plt.bar()`: Used when I want to compare the **quantity** of items from the same category (categorical).\n",
    "4. `plt.pie()`: Not very frequently used for me besides in presentations, but is very nice to quickly demonstrate the breakdowns of your categories.\n",
    "5. `plt.hist()`: Similar to the plt.bar(), but used to compare the **quantity** of numerical/continous data (continuous).\n",
    "\n",
    "When using these, I always Google the documentation and have that handy so I can see what parameters are used and see some examples."
   ]
  },
  {
   "cell_type": "markdown",
   "id": "17983afd",
   "metadata": {},
   "source": [
    "<a id='numpy'></a>\n",
    "# 6. NumPy"
   ]
  },
  {
   "cell_type": "code",
   "execution_count": 2,
   "id": "3994903f",
   "metadata": {},
   "outputs": [],
   "source": [
    "import numpy as np"
   ]
  },
  {
   "cell_type": "markdown",
   "id": "073dcab7",
   "metadata": {},
   "source": [
    "### 6.1 `loadtxt()`\n",
    "The NumPy `loadtxt()` function can read in most types of files, so long as the proper parameters are passed in. The major difference between this and Pandas data loading is that `loadtxt()` unpacks data into NumPy arrays for our use. Unfortunately, this very generic file unpacking method means we often need to provide additional information as parameters to our function. In the [documentation](https://numpy.org/doc/stable/reference/generated/numpy.loadtxt.html) for `loadtxt()`, we often use the parameters for `skiprows`, `delimeter`, and `encoding` depending on the type of file we wish to decode."
   ]
  },
  {
   "cell_type": "markdown",
   "id": "93038ddf",
   "metadata": {},
   "source": [
    "### 6.2 Arrays\n",
    "Arrays are the main data structure used in NumPy. The array is very similar to a list, and they can sometimes be used in place of each other, but not always. \n",
    "\n",
    "Lists can store multiple different data types in them, just like a junk drawer in the house. The array is more specialized. It only holds one data type at a time. NumPy is smart enough to try and convert all data to a common ground, if strings and integers are both in an array they will all become strings."
   ]
  },
  {
   "cell_type": "markdown",
   "id": "158ed0e6",
   "metadata": {},
   "source": [
    "Arrays have a few different ways to interact with them depending on how many dimensions they have. First, we look at the 1-Dimensional array.\n",
    "\n",
    "### 6.2.1 1-D Arrays"
   ]
  },
  {
   "cell_type": "code",
   "execution_count": 4,
   "id": "be611598",
   "metadata": {},
   "outputs": [
    {
     "data": {
      "text/plain": [
       "array([0, 1, 2, 3, 4, 5, 6, 7, 8, 9])"
      ]
     },
     "execution_count": 4,
     "metadata": {},
     "output_type": "execute_result"
    }
   ],
   "source": [
    "a = np.arange(0,10)\n",
    "a"
   ]
  },
  {
   "cell_type": "markdown",
   "id": "6b2308a6",
   "metadata": {},
   "source": [
    "With 1-D arrays, we can mostly index and slice them like we would a list, with the `ary[start:stop:step]` notation. The default assumption for this notation is `start = 0`, `stop = len(array)`, `step = 1`."
   ]
  },
  {
   "cell_type": "code",
   "execution_count": 19,
   "id": "e266c20e",
   "metadata": {},
   "outputs": [
    {
     "name": "stdout",
     "output_type": "stream",
     "text": [
      "[0 1 2]\n",
      "[7 8 9]\n",
      "[2 3 4 5]\n",
      "[0 1 2 3 4]\n",
      "[0 2 4 6 8]\n",
      "[9 8 7 6 5 4 3 2 1 0]\n"
     ]
    }
   ],
   "source": [
    "# First 3 values\n",
    "print(a[:3])\n",
    "\n",
    "# Last 3 values\n",
    "print(a[-3:])\n",
    "\n",
    "# Some elements from the middle\n",
    "print(a[2:6])\n",
    "\n",
    "# First half of the array\n",
    "print(a[:5])\n",
    "\n",
    "# Every second item\n",
    "print(a[::2])\n",
    "\n",
    "# Print the array in backwards order (useful to remember!)\n",
    "print(a[::-1])"
   ]
  },
  {
   "cell_type": "markdown",
   "id": "3ecdb2b0",
   "metadata": {},
   "source": [
    "### 6.2.2 2-D Arrays\n",
    "For a 2-D array, we can mostly apply the same principles, but twice!\n",
    "\n",
    "If we iterated through a row (A 1-D array) with `ary[start:stop:step]`, we can iterate through a 2-D array with `ary[start_row:stop_row:step_row, start_col:stop_col:step_col]`.\n",
    "\n",
    "Again, the default assumptions for both of these are the same as above. To indicate you want to select all rows/columns, place a `:` in the respective side of the comma (left side for rows, right side for columns)."
   ]
  },
  {
   "cell_type": "code",
   "execution_count": 20,
   "id": "e3c070b8",
   "metadata": {},
   "outputs": [
    {
     "data": {
      "text/plain": [
       "array([[1, 2, 3],\n",
       "       [4, 5, 6],\n",
       "       [7, 8, 9]])"
      ]
     },
     "execution_count": 20,
     "metadata": {},
     "output_type": "execute_result"
    }
   ],
   "source": [
    "b = np.array([[1,2,3],[4,5,6],[7,8,9]])\n",
    "b"
   ]
  },
  {
   "cell_type": "code",
   "execution_count": 32,
   "id": "ce2fcd2a",
   "metadata": {},
   "outputs": [
    {
     "name": "stdout",
     "output_type": "stream",
     "text": [
      "[1 2 3]\n",
      "[2 5 8]\n",
      "5\n",
      "[7 9]\n",
      "[[5 6]\n",
      " [8 9]]\n",
      "[[7 8 9]\n",
      " [4 5 6]\n",
      " [1 2 3]]\n",
      "[[3 2 1]\n",
      " [6 5 4]\n",
      " [9 8 7]]\n"
     ]
    }
   ],
   "source": [
    "# Print the first row\n",
    "print(b[0])\n",
    "\n",
    "# Print the second column\n",
    "print(b[:, 1])\n",
    "\n",
    "# Print the middle element (5)\n",
    "print(b[1,1])\n",
    "\n",
    "# Print every other element of the third row\n",
    "print(b[2,::2])\n",
    "\n",
    "# Print a square array of the last two rows and columns\n",
    "print(b[1:, 1:])\n",
    "\n",
    "# Reverse the rows\n",
    "print(b[::-1, :])\n",
    "\n",
    "# Reverse the columns\n",
    "print(b[:, ::-1])"
   ]
  },
  {
   "cell_type": "markdown",
   "id": "c5bbccdf",
   "metadata": {},
   "source": [
    "### 6.3 Helpful NumPy Functions to Remember\n",
    "These are some fairly common NumPy functions that are worth remembering how to use (or Google!) in times of need.\n",
    "\n",
    "1. `np.arange(start, stop, step)`: Returns an array of numbers from `start` to `stop` in increments/steps of `step`.\n",
    "2. `np.linspace(start, stop, num)`: Returns an array of `num` evenly spaced numbers from `start` to `stop`.\n",
    "3. `np.zeros(n)` and `np.ones(n)`: Returns an array of `n` zeros or ones, respectively.\n",
    "4. `np.polyfit(x, y, deg)`: Returns an output of a degree `deg` polynomial that best fits the points (`x`,`y`) through minimization of squared error.\n",
    "5. `np.nan`: Constant for a \"not a number\" value."
   ]
  },
  {
   "cell_type": "markdown",
   "id": "467e4f37",
   "metadata": {},
   "source": [
    "<a id='mask'></a>\n",
    "# 7. Masking\n",
    "A quick reminder on masking, as it can help us for both NumPy and Pandas. The steps to masking are:\n",
    "1. Define the mask\n",
    "2. Apply the mask to the data\n",
    "3. Print our new, masked data!\n",
    "\n",
    "An example in both NumPy and Pandas will be shown:"
   ]
  },
  {
   "cell_type": "markdown",
   "id": "e4ba8535",
   "metadata": {},
   "source": [
    "### 7.1 NumPy\n"
   ]
  },
  {
   "cell_type": "code",
   "execution_count": 35,
   "id": "044312d1",
   "metadata": {},
   "outputs": [
    {
     "data": {
      "text/plain": [
       "array([3, 7, 5, 4])"
      ]
     },
     "execution_count": 35,
     "metadata": {},
     "output_type": "execute_result"
    }
   ],
   "source": [
    "values = np.array([1, 3, 7, 5, 2, 4])\n",
    "\n",
    "values_mask = values > 2 # Step 1, define a mask\n",
    "\n",
    "masked_data = values[values_mask] # Step 2, apply the mask\n",
    "\n",
    "masked_data # Step 3, display our new data!"
   ]
  },
  {
   "cell_type": "code",
   "execution_count": 36,
   "id": "bb285cac",
   "metadata": {},
   "outputs": [
    {
     "name": "stdout",
     "output_type": "stream",
     "text": [
      "[False  True  True  True False  True]\n"
     ]
    }
   ],
   "source": [
    "print(values_mask)"
   ]
  },
  {
   "cell_type": "markdown",
   "id": "849d2d60",
   "metadata": {},
   "source": [
    "As we can see here, we have selected only the values that satisfy our given condition, or our mask. The mask essentially loops through each value in the data, and checks if the value would return True or False for our given Boolean condition. The mask then stores that data as an array of Trues and Falses. When we pass the mask to our array, a new array is formed of **only** the values that returned True."
   ]
  },
  {
   "cell_type": "markdown",
   "id": "02b5aadd",
   "metadata": {},
   "source": [
    "### 7.2 Pandas"
   ]
  },
  {
   "cell_type": "code",
   "execution_count": 37,
   "id": "61640086",
   "metadata": {},
   "outputs": [],
   "source": [
    "# Put test dataset in github, always have avail?"
   ]
  },
  {
   "cell_type": "code",
   "execution_count": null,
   "id": "043a9e69",
   "metadata": {},
   "outputs": [],
   "source": []
  }
 ],
 "metadata": {
  "kernelspec": {
   "display_name": "Python 3",
   "language": "python",
   "name": "python3"
  },
  "language_info": {
   "codemirror_mode": {
    "name": "ipython",
    "version": 3
   },
   "file_extension": ".py",
   "mimetype": "text/x-python",
   "name": "python",
   "nbconvert_exporter": "python",
   "pygments_lexer": "ipython3",
   "version": "3.8.8"
  }
 },
 "nbformat": 4,
 "nbformat_minor": 5
}
