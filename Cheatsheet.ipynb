{
 "cells": [
  {
   "cell_type": "markdown",
   "id": "0d163ea0",
   "metadata": {},
   "source": [
    "# Jack's CMSE201 Cheatsheet\n",
    "\n",
    "To be used in conjunction with the bootcamps and other class resources. Some of the topics are explained a bit more in-depth for those who want a deeper understanding of how to get the most out of Python.\n",
    "\n",
    "**This project frequently undergoes updates.** Updated versions can always be found [here](https://github.com/jacknuge28/Projects/blob/main/Cheatsheet.ipynb) on GitHub."
   ]
  },
  {
   "cell_type": "markdown",
   "id": "fdd2fffb",
   "metadata": {},
   "source": [
    "<a id='top'></a>\n",
    "## Table of Contents:\n",
    "**Note:** The hyperlinks will only work when the notebook is downloaded locally, they won't work if you're viewing this on GitHub!\n",
    "\n",
    "1. [Finding Resources Online](#online)\n",
    "2. [Loops](#Loops)<br>\n",
    "    a. For Loops<br>\n",
    "    b. While Loops<br>\n",
    "    c. The Nested For Loop\n",
    "3. [Dictionaries and Lists](#diction)<br>\n",
    "    a. The Basics<br>\n",
    "    b. More Complex Structures\n",
    "4. [If Statements](#if)<br>\n",
    "    a. The Basic `if-else` statement<br>\n",
    "    b. The `elif` statement\n",
    "5. [Functions](#func)<br>\n",
    "    a. The Basic Function<br>\n",
    "    b. Default Parameters\n",
    "6. [Matplotlib](#plot)<br>\n",
    "    a. What Is A \"Good\" Plot<br>\n",
    "    b. Other Optional Plotting Features<br>\n",
    "    c. The Subplot<br>\n",
    "    d. Which Graph To Use?\n",
    "7. [NumPy](#numpy)<br>\n",
    "    a. `loadtxt()`<br>\n",
    "    b. Arrays (1-D and 2-D)\n",
    "8. [Masking](#mask)<br>\n",
    "    a. NumPy <br>\n",
    "    b. Pandas\n",
    "9. [Pandas](#pandas)<br>\n",
    "    a. Helpful Functions<br>\n",
    "    b. My Steps to Analysis\n",
    "10. [Math Heavy Functions](#mathheavy)<br>\n",
    "    a. `curve_fit()`<br>\n",
    "    b. `solve_ivp()`"
   ]
  },
  {
   "cell_type": "code",
   "execution_count": 1,
   "id": "49f0b466",
   "metadata": {},
   "outputs": [],
   "source": [
    "# General imports I use in 90% of my notebooks\n",
    "import numpy as np\n",
    "import math \n",
    "import pandas as pd\n",
    "import matplotlib.pyplot as plt\n",
    "\n",
    "# More specific one-off type imports.\n",
    "from scipy.optimize import curve_fit\n",
    "from scipy.integrate import solve_ivp"
   ]
  },
  {
   "cell_type": "markdown",
   "id": "96ff23e4",
   "metadata": {},
   "source": [
    "<a id='online'></a>\n",
    "## 1. Finding Resources Online [(To Top)](#top)\n",
    "Much of what we do in class **will require Googling**. It isn't expected that anyone remembers every single error message or function parameter order for every Python function out there! \n",
    "\n",
    "Searching up code snippets and using them in your own work is fine (just put the link to the website you found this at in a comment in that cell). Likewise, finding datasets online is also okay, just give credit and cite your sources!\n",
    "\n",
    "The main thing for when we use online resources: **make sure you know what is going on**. We can all just copy and paste code from the internet but if you can't explain what that code does, first off that looks real bad to your graders, but also if you run into bugs down the line you won't know how/where the issue occurred!"
   ]
  },
  {
   "cell_type": "markdown",
   "id": "c86d33a2",
   "metadata": {},
   "source": [
    "<a id='Loops'></a>\n",
    "## 2. Loop Types [(To Top)](#top)\n",
    "The two main types of loops we use are **for loops** and **while loops**.\n",
    "\n",
    "A for loop is generally used when **we know how many times we want the loop to run**. \n",
    "A while loop is used when **we know what condition we want to stop at**. For the most part, I prefer to use for loops, but that's not to say while loops don't have their purpose!\n",
    "\n",
    "It is worth noting that *any loop can be written as a for loop*."
   ]
  },
  {
   "cell_type": "markdown",
   "id": "f4c71446",
   "metadata": {},
   "source": [
    "### 2.1 For Loops\n",
    "A more general case of loop, the for loop can be further broken into two main types of for loops:\n",
    "1. **Loop by Index**\n",
    "2. **Loop by Value**\n",
    "\n",
    "Loop by value is generally a simpler representation of a loop. If I have a list of values (or any container-like object), loop by value will **just** loop over that list of values. An example is given below."
   ]
  },
  {
   "cell_type": "code",
   "execution_count": 2,
   "id": "26866886",
   "metadata": {},
   "outputs": [
    {
     "name": "stdout",
     "output_type": "stream",
     "text": [
      "a\n",
      "b\n",
      "c\n",
      "d\n"
     ]
    }
   ],
   "source": [
    "# Loop by value\n",
    "list_of_vals = ['a', 'b', 'c', 'd']\n",
    "\n",
    "for val in list_of_vals:\n",
    "    print(val)"
   ]
  },
  {
   "cell_type": "markdown",
   "id": "f8531063",
   "metadata": {},
   "source": [
    "We can see that **looping by value** will show us the contents of the list. Simple, but not necessarily the easiest to work with when we get into more complex problems. \n",
    "\n",
    "What if I had two lists and wanted to print out the second value from each list? Looping by value won't work here because looping by value shows us **what** is in a list, but not **where** it is. If we want to access a certain value in a list, we need to use **looping by index**.\n",
    "\n",
    "Looping by index is very similar to looping by index, but requires a slightly more specific loop set-up. An example is given below."
   ]
  },
  {
   "cell_type": "code",
   "execution_count": 3,
   "id": "3b8214d9",
   "metadata": {},
   "outputs": [
    {
     "name": "stdout",
     "output_type": "stream",
     "text": [
      "a\n",
      "b\n",
      "c\n",
      "d\n"
     ]
    }
   ],
   "source": [
    "# Loop by index\n",
    "list_of_vals = ['a', 'b', 'c', 'd']\n",
    "\n",
    "for index in range(len(list_of_vals)):\n",
    "    print(list_of_vals[index])"
   ]
  },
  {
   "cell_type": "markdown",
   "id": "3c6095d8",
   "metadata": {},
   "source": [
    "We see that both the loop examples above give us the same values, so let's break down the loop by index code a bit more:\n",
    "\n",
    "`for index in range(len(list_name)):`\n",
    "\n",
    "`index`: The looping variable keeping track of the index we are at.\n",
    "\n",
    "`range(stop)`: A Python function that gives us a sequence of numbers. By default this will start at 0 and count upwards by 1 until reaching the number passed into the function. This is worth noting that it will count from 0 **up until** the stopping number, so if I wanted the numbers 0 through 5, I would call `range(6)`.\n",
    "\n",
    "`len(list_name)`: A Python function that returns an integer of how many items are in the list (or container-like object) that is passed in.\n",
    "\n",
    "By combining the `range()` and `len(list_name)` functions, we can set up our loop to count how many items we have in a list, as shown below. Remeber, in Python we start counting from 0, so a list of four items will be counted as \"0, 1, 2, 3\"."
   ]
  },
  {
   "cell_type": "code",
   "execution_count": 4,
   "id": "9fe313ac",
   "metadata": {},
   "outputs": [
    {
     "name": "stdout",
     "output_type": "stream",
     "text": [
      "0\n",
      "1\n",
      "2\n",
      "3\n"
     ]
    }
   ],
   "source": [
    "list_of_vals = ['a', 'b', 'c', 'd']\n",
    "\n",
    "for index in range(len(list_of_vals)):\n",
    "    print(index)"
   ]
  },
  {
   "cell_type": "markdown",
   "id": "939fbc85",
   "metadata": {},
   "source": [
    "Now that we have the **number of elements in our list**, we can work backwards and figure out the answer to questions such as \"What is the second element in our list?\" (Remember, second element in Python will be the element at index 1)."
   ]
  },
  {
   "cell_type": "code",
   "execution_count": 5,
   "id": "28d1f5af",
   "metadata": {},
   "outputs": [
    {
     "data": {
      "text/plain": [
       "'b'"
      ]
     },
     "execution_count": 5,
     "metadata": {},
     "output_type": "execute_result"
    }
   ],
   "source": [
    "list_of_vals[1]"
   ]
  },
  {
   "cell_type": "markdown",
   "id": "57cf6160",
   "metadata": {},
   "source": [
    "The element at index 1 is, in fact, the second element of our list! \n",
    "\n",
    "Now let's put all of the pieces together. With looping by index, we can then access the list at the element like so:"
   ]
  },
  {
   "cell_type": "code",
   "execution_count": 6,
   "id": "09239de6",
   "metadata": {},
   "outputs": [
    {
     "name": "stdout",
     "output_type": "stream",
     "text": [
      "a\n",
      "b\n",
      "c\n",
      "d\n"
     ]
    }
   ],
   "source": [
    "list_of_vals = ['a', 'b', 'c', 'd']\n",
    "\n",
    "for index in range(len(list_of_vals)):\n",
    "    print(list_of_vals[index])"
   ]
  },
  {
   "cell_type": "markdown",
   "id": "c0b5da8a",
   "metadata": {},
   "source": [
    "Looping by index is especially helpful when you have multiple lists, or just want certain elements from your list. Some examples are given below."
   ]
  },
  {
   "cell_type": "code",
   "execution_count": 7,
   "id": "36a7f4e6",
   "metadata": {},
   "outputs": [
    {
     "name": "stdout",
     "output_type": "stream",
     "text": [
      "a\n",
      "10\n",
      "b\n",
      "20\n",
      "c\n",
      "30\n",
      "d\n",
      "40\n"
     ]
    }
   ],
   "source": [
    "# Print one element of list_of_vals, then one element of list_of_nums, repeat for all values.\n",
    "list_of_vals = ['a', 'b', 'c', 'd']\n",
    "list_of_nums = [10, 20, 30, 40]\n",
    "\n",
    "for index in range(len(list_of_vals)):\n",
    "    print(list_of_vals[index])\n",
    "    print(list_of_nums[index])"
   ]
  },
  {
   "cell_type": "code",
   "execution_count": 8,
   "id": "63b65da1",
   "metadata": {},
   "outputs": [
    {
     "name": "stdout",
     "output_type": "stream",
     "text": [
      "b\n",
      "20\n"
     ]
    }
   ],
   "source": [
    "# Print the second value from each list.\n",
    "list_of_vals = ['a', 'b', 'c', 'd']\n",
    "list_of_nums = [10, 20, 30, 40]\n",
    "\n",
    "index = 1\n",
    "print(list_of_vals[index])\n",
    "print(list_of_nums[index])"
   ]
  },
  {
   "cell_type": "markdown",
   "id": "e2cb58d4",
   "metadata": {},
   "source": [
    "### 2.2 While Loops\n",
    "Hopefully a slightly less complex loop to comprehend, the while loop will execute while a given condition is true.\n",
    "\n",
    "The core components of the while loop itself is just the `while <condition>:`. Until that given condition is no longer true, the loop will run. \n",
    "\n",
    "The while loop does have some additional intricacies compared to the for loop. While loops can run into the issue of an **infinite loop**, where the condition is always true. In the following loop, if the `x += 1` line was not present, we would see the code cell would run forever (Feel free to delete that line and run the cell. Just make sure to STOP the cell from the Jupyter menus from Kernel -> Interrupt). This can be less obvious if the code cell in question has no print statement."
   ]
  },
  {
   "cell_type": "code",
   "execution_count": 9,
   "id": "40cad9d1",
   "metadata": {},
   "outputs": [
    {
     "name": "stdout",
     "output_type": "stream",
     "text": [
      "0\n",
      "1\n",
      "2\n",
      "3\n",
      "4\n"
     ]
    }
   ],
   "source": [
    "x = 0\n",
    "while x < 5:\n",
    "    print(x)\n",
    "    x += 1"
   ]
  },
  {
   "cell_type": "markdown",
   "id": "38ff9e1c",
   "metadata": {},
   "source": [
    "### 2.3 The Nested For Loop\n",
    "A nested for loop is simply one for loop inside of another for loop (can be infinitely chained).\n",
    "\n",
    "How this works is that the outer loop is triggered once, then the entirety of the inner loop. After the inner loop is completed we wrap back around to the outer loop's second trigger, execute the inner loop, and repeat until the outer loop is finished.\n",
    "\n",
    "One thing to note is **we need to use different iterating variables for both loops**. If my first loop is written as `for i in ...` then my second loop **should not use `i` as a variable name**. This will cause a lot of headache with your loops and, unless you very much know what you're doing and the task at hand calls for it, should be avoided 99% of the time. \n",
    "\n",
    "An example structure is given below. Note how `i` remains the same until we have finished printing every `j`, then `i` is updated on the next pass of the loop:"
   ]
  },
  {
   "cell_type": "code",
   "execution_count": 10,
   "id": "f5f29fd7",
   "metadata": {},
   "outputs": [
    {
     "name": "stdout",
     "output_type": "stream",
     "text": [
      "0 a\n",
      "0 b\n",
      "0 c\n",
      "\n",
      "1 a\n",
      "1 b\n",
      "1 c\n",
      "\n",
      "2 a\n",
      "2 b\n",
      "2 c\n",
      "\n"
     ]
    }
   ],
   "source": [
    "for i in range(3):\n",
    "    for j in ['a', 'b', 'c']:\n",
    "        print(i, j)\n",
    "    print()"
   ]
  },
  {
   "cell_type": "markdown",
   "id": "70d7997e",
   "metadata": {},
   "source": [
    "<a id='diction'></a>\n",
    "# 3. Dictionaries and Lists [(To Top)](#top)\n",
    "\n",
    "### 3.1 The Basics \n",
    "### 3.1.1 Lists\n",
    "Lists in Python are a container object. Essentially, a list *contains* and stores data. Lists are ordered and can have duplicate entries, and lists are **mutable** meaning we can edit the contents. Lists allows us to use an **index** to access a member/element of the list.\n",
    "\n",
    "To declare, or initialize, a list, we use the square brackets `[]`.\n",
    "\n",
    "Lists have a couple very handy functions, the main ones we will use are listed below for reference:\n",
    "\n",
    "1. `LIST.append(x)`: Adds an additional element `x` to the end of LIST.\n",
    "2. `LIST.copy()`: Creates a copy of LIST. This is helpful when you want to edit a list once and not edit the original list.\n",
    "3. `LIST.insert(idx, val)`: Inserts the value `val` into LIST at index `idx`.\n",
    "4. `LIST.remove(x)`: Removes the first instance of `x` from LIST. If `x` is not in LIST an error will be thrown.\n",
    "5. `LIST.reverse()`: Simply reverses the LIST.\n",
    "6. `LIST.sort()`: Sorts LIST in ascending order by default, can add parameter `reverse=True` to sort descending.\n",
    "\n",
    "To see examples of how to access the values in a dictionary, see the section on [Loops](#Loops)."
   ]
  },
  {
   "cell_type": "markdown",
   "id": "313a2aac",
   "metadata": {},
   "source": [
    "### 3.1.2 Dictionaries\n",
    "Dictionaries are a more complex data structure as compared to a list. While lists are set up with values separated by commas like:\n",
    "\n",
    "`[1,2,3]`\n",
    "\n",
    "Dictionaries are set up with key-value pairings like:\n",
    "\n",
    "`{key: value}`"
   ]
  },
  {
   "cell_type": "code",
   "execution_count": 11,
   "id": "d6eb7e3b",
   "metadata": {},
   "outputs": [],
   "source": [
    "list_example = [1,2,3,4]\n",
    "dict_example= {'first': 1, 'second': 2, 'third': 3, 'fourth': 4}"
   ]
  },
  {
   "cell_type": "markdown",
   "id": "b0d78d85",
   "metadata": {},
   "source": [
    "To access the values of items in a dictionary, you need to use the key as an index. We can use a variant of the looping by index strategy above to access the key:"
   ]
  },
  {
   "cell_type": "code",
   "execution_count": 12,
   "id": "ef788588",
   "metadata": {},
   "outputs": [
    {
     "name": "stdout",
     "output_type": "stream",
     "text": [
      "first\n",
      "second\n",
      "third\n",
      "fourth\n"
     ]
    }
   ],
   "source": [
    "for key in dict_example:\n",
    "    print(key)"
   ]
  },
  {
   "cell_type": "markdown",
   "id": "f8f74335",
   "metadata": {},
   "source": [
    "And then use the key as an index like so:"
   ]
  },
  {
   "cell_type": "code",
   "execution_count": 13,
   "id": "f61643ff",
   "metadata": {},
   "outputs": [
    {
     "name": "stdout",
     "output_type": "stream",
     "text": [
      "1\n",
      "2\n",
      "3\n",
      "4\n"
     ]
    }
   ],
   "source": [
    "for key in dict_example:\n",
    "    print(dict_example[key])"
   ]
  },
  {
   "cell_type": "markdown",
   "id": "e728b3f5",
   "metadata": {},
   "source": [
    "### 3.2 More complex structures\n",
    "Lists can hold single values in each element, but they can also hold other lists! The list-of-lists structure is fairly common, and knowing how to loop over them can be extremely helpful.\n"
   ]
  },
  {
   "cell_type": "code",
   "execution_count": 14,
   "id": "47bc2f0e",
   "metadata": {},
   "outputs": [
    {
     "name": "stdout",
     "output_type": "stream",
     "text": [
      "[1, 2, 3]\n",
      "[4, 5, 6]\n",
      "[7, 8, 9]\n"
     ]
    }
   ],
   "source": [
    "# Rows of a matrix\n",
    "list_a = [[1,2,3],\n",
    "          [4,5,6],\n",
    "          [7,8,9]]\n",
    "for i in range(len(list_a)):\n",
    "    print(list_a[i])\n",
    "    \n",
    "# The same loop but with looping by value.\n",
    "\n",
    "#    for i in list_a:\n",
    "#        print(i)   \n"
   ]
  },
  {
   "cell_type": "markdown",
   "id": "3b75f990",
   "metadata": {},
   "source": [
    "We can see here that, by looping over `list_a`'s values like normal, we get the **rows** of the matrix. To loop over each element, like to print the numbers 1 through 9 in order, we will need to use a **nested for loop** (Section 1.3)."
   ]
  },
  {
   "cell_type": "code",
   "execution_count": 15,
   "id": "d31ba40f",
   "metadata": {},
   "outputs": [
    {
     "name": "stdout",
     "output_type": "stream",
     "text": [
      "1\n",
      "2\n",
      "3\n",
      "4\n",
      "5\n",
      "6\n",
      "7\n",
      "8\n",
      "9\n"
     ]
    }
   ],
   "source": [
    "list_a = [[1,2,3],\n",
    "          [4,5,6],\n",
    "          [7,8,9]]\n",
    "# Row\n",
    "for i in range(len(list_a)):\n",
    "    row = list_a[i]\n",
    "    # Column of Row\n",
    "    for j in range(len(row)):\n",
    "        print(row[j])"
   ]
  },
  {
   "cell_type": "markdown",
   "id": "f419765f",
   "metadata": {},
   "source": [
    "<a id='if'></a>\n",
    "# 4. If Statements [(To Top)](#top)"
   ]
  },
  {
   "cell_type": "markdown",
   "id": "43f9c541",
   "metadata": {},
   "source": [
    "### 4.1 Basic `if-else` Statement\n",
    "The `if` statement can be thought of logically as `if True, then ...`. If the condition after `if` is True, *then* we do whatever is after the if statement. \n",
    "\n",
    "If statements generally include a general `else` statement as well, to be used for when the `if` statement is not True."
   ]
  },
  {
   "cell_type": "code",
   "execution_count": 16,
   "id": "15f2061e",
   "metadata": {},
   "outputs": [
    {
     "name": "stdout",
     "output_type": "stream",
     "text": [
      "0 Not Three!\n",
      "1 Not Three!\n",
      "2 Not Three!\n",
      "3 Three!\n",
      "4 Not Three!\n",
      "5 Not Three!\n"
     ]
    }
   ],
   "source": [
    "for i in range(6):\n",
    "    if i == 3:\n",
    "        print(i, \"Three!\")\n",
    "    else:\n",
    "        print(i, \"Not Three!\")"
   ]
  },
  {
   "cell_type": "markdown",
   "id": "5306888b",
   "metadata": {},
   "source": [
    "### 4.2 The `elif` Statement"
   ]
  },
  {
   "cell_type": "markdown",
   "id": "c7ac82c7",
   "metadata": {},
   "source": [
    "We see above that we only have two conditions, an `if` and an `else`. But what if we wanted to check multiple conditions? What if in the above cell we also wanted to check if the number was a 2 without adding another if statement?\n",
    "\n",
    "This is where the `elif` (else-if) comes into play. `elif` allows us to effectively check another specific condition after the `if` statement, but avoid the \"catch-all\" statement that is the `else`."
   ]
  },
  {
   "cell_type": "code",
   "execution_count": 17,
   "id": "eaec2c9b",
   "metadata": {},
   "outputs": [
    {
     "name": "stdout",
     "output_type": "stream",
     "text": [
      "0 Not Three or Four!\n",
      "1 Not Three or Four!\n",
      "2 Not Three or Four!\n",
      "3 Three!\n",
      "4 Four!\n",
      "5 Not Three or Four!\n"
     ]
    }
   ],
   "source": [
    "for i in range(6):\n",
    "    if i == 3:\n",
    "        print(i, \"Three!\")\n",
    "    elif i == 4:\n",
    "        print(i, \"Four!\")\n",
    "    else:\n",
    "        print(i, \"Not Three or Four!\")"
   ]
  },
  {
   "cell_type": "markdown",
   "id": "2f4d1264",
   "metadata": {},
   "source": [
    "<a id='func'></a>\n",
    "# 5. Functions [(To Top)](#top)\n",
    "\n",
    "### 5.1 The Basic Function\n",
    "Functions are great for repeated tasks, and can even be used between notebooks! These help for the readability of your code, making it so there's less copy-pasting and it's easier to see what is going on inside your code. The main things a function needs are a **name** and, if any, the **parameters**, or arguments, it needs to run.\n",
    "\n",
    "**The order of the parameters matters**! The order you define them in the function defintion is the same order you need to pass the variables in when calling your function. If you don't do this properly your code may still run but your output will not be what you want!\n",
    "\n",
    "If you want to use the output of a function again later, you will need a **return** function as well, though sometimes having a function `print` things is all you need.\n",
    "\n",
    "Both a skeleton of a function and some working examples are given below:"
   ]
  },
  {
   "cell_type": "code",
   "execution_count": 18,
   "id": "923aab8a",
   "metadata": {},
   "outputs": [
    {
     "name": "stdout",
     "output_type": "stream",
     "text": [
      "3\n"
     ]
    }
   ],
   "source": [
    "# Basic structure of a function\n",
    "def func_name(param_a, param_b):\n",
    "    return 0\n",
    "    \n",
    "# Addition with a return\n",
    "def addition(a, b):\n",
    "    a_plus_b = a+b\n",
    "    return a_plus_b\n",
    "\n",
    "c = addition(1,2)\n",
    "print(c)"
   ]
  },
  {
   "cell_type": "code",
   "execution_count": 19,
   "id": "be4131f1",
   "metadata": {},
   "outputs": [
    {
     "name": "stdout",
     "output_type": "stream",
     "text": [
      "3\n",
      "None\n"
     ]
    }
   ],
   "source": [
    "# Addition without a return, but with a print\n",
    "def addition_p(a, b):\n",
    "    a_plus_b = a+b\n",
    "    print(a_plus_b)\n",
    "    \n",
    "d = addition_p(1,2)\n",
    "print(d)"
   ]
  },
  {
   "cell_type": "markdown",
   "id": "519e38d2",
   "metadata": {},
   "source": [
    "In the first cell, we store the output of `addition` in the value `c`, then print that result. \n",
    "\n",
    "The second cell has two prints, the first one is within the function itself, so **any time the function is called, the print will happen**. But why does the second print statement print `None`? Shouldn't it print 3? \n",
    "\n",
    "By trying to store the results of `addition_p`, a function that **does not return its results**, Python did exactly that, it stored the results of the function in `d`, which is nothing! In the case of a function using a `print` with no `return`, you likely just need to call the function to see the information you want."
   ]
  },
  {
   "cell_type": "code",
   "execution_count": 20,
   "id": "ef4151fc",
   "metadata": {},
   "outputs": [
    {
     "name": "stdout",
     "output_type": "stream",
     "text": [
      "3\n"
     ]
    }
   ],
   "source": [
    "addition_p(1,2)"
   ]
  },
  {
   "cell_type": "markdown",
   "id": "07d8ff9f",
   "metadata": {},
   "source": [
    "### 5.2 Default Parameters\n",
    "You may notice some functions in class that have the same name but take different numbers of parameters. This is often due to \"default parameters\". \n",
    "\n",
    "In one of our favorite default Python functions `range()`, you may notice we always start from 0 and count up by 1. What if we wanted the numbers 100 through 105 from the range function?\n",
    "\n",
    "The `range()` function is actually written with three base parameters, in the form `range(start=0, stop, step=1)`. The equal signs here mean \"if no parameter is specified, **assume** this\". Some examples of playing around with the parameters are shown below."
   ]
  },
  {
   "cell_type": "code",
   "execution_count": 21,
   "id": "17ea9fc4",
   "metadata": {},
   "outputs": [
    {
     "name": "stdout",
     "output_type": "stream",
     "text": [
      "0\n",
      "1\n",
      "2\n",
      "3\n",
      "4\n"
     ]
    }
   ],
   "source": [
    "for i in range(5):\n",
    "    print(i)"
   ]
  },
  {
   "cell_type": "code",
   "execution_count": 22,
   "id": "36f82816",
   "metadata": {},
   "outputs": [
    {
     "name": "stdout",
     "output_type": "stream",
     "text": [
      "100\n",
      "101\n",
      "102\n",
      "103\n",
      "104\n"
     ]
    }
   ],
   "source": [
    "for i in range(100, 105):\n",
    "    print(i)"
   ]
  },
  {
   "cell_type": "code",
   "execution_count": 23,
   "id": "a330309d",
   "metadata": {},
   "outputs": [
    {
     "name": "stdout",
     "output_type": "stream",
     "text": [
      "0\n",
      "2\n",
      "4\n",
      "6\n",
      "8\n"
     ]
    }
   ],
   "source": [
    "for i in range(0, 10, 2):\n",
    "    print(i)"
   ]
  },
  {
   "cell_type": "code",
   "execution_count": 24,
   "id": "b237eae2",
   "metadata": {},
   "outputs": [
    {
     "name": "stdout",
     "output_type": "stream",
     "text": [
      "5\n",
      "4\n",
      "3\n",
      "2\n",
      "1\n"
     ]
    }
   ],
   "source": [
    "for i in range(5, 0, -1):\n",
    "    print(i)"
   ]
  },
  {
   "cell_type": "markdown",
   "id": "9d4e7ea0",
   "metadata": {},
   "source": [
    "Note that the `step` argument can be negative, which can be helpful in certain scenarios. \n",
    "\n",
    "To write a function using these default parameters, you just need to set an equal sign after the parameter name in the function definition, like so:"
   ]
  },
  {
   "cell_type": "code",
   "execution_count": 25,
   "id": "891f3316",
   "metadata": {},
   "outputs": [
    {
     "data": {
      "text/plain": [
       "15"
      ]
     },
     "execution_count": 25,
     "metadata": {},
     "output_type": "execute_result"
    }
   ],
   "source": [
    "def addition(a, b=10):\n",
    "    return (a+b)\n",
    "\n",
    "addition(5)"
   ]
  },
  {
   "cell_type": "markdown",
   "id": "29e534a0",
   "metadata": {},
   "source": [
    "Like before, the above function, when called, will add two numbers together. This time, if only one number is put in, it will default to adding 10 to that number."
   ]
  },
  {
   "cell_type": "markdown",
   "id": "1ca12a8c",
   "metadata": {},
   "source": [
    "<a id='plot'></a>\n",
    "# 6. Matplotlib [(To Top)](#top)\n",
    "A powerful plotting tool, `matplotlib` has far more capabilities than any one person will know. To that end, the [matplotlib documentation](https://matplotlib.org/) is insanely valuable.\n",
    "\n",
    "Showing examples of plots is tough to do because there's so many approaches, so we can start with what a basic \"well-labeled\" plot might look like."
   ]
  },
  {
   "cell_type": "markdown",
   "id": "e5bfc2b6",
   "metadata": {},
   "source": [
    "### 6.1 What is a \"Good\" Plot?"
   ]
  },
  {
   "cell_type": "code",
   "execution_count": 26,
   "id": "3c7d3c64",
   "metadata": {},
   "outputs": [],
   "source": [
    "import matplotlib.pyplot as plt"
   ]
  },
  {
   "cell_type": "code",
   "execution_count": 27,
   "id": "df4835df",
   "metadata": {},
   "outputs": [
    {
     "data": {
      "text/plain": [
       "[1, 4, 8, 8, 8, 7, 3, 5, 8, 9]"
      ]
     },
     "execution_count": 27,
     "metadata": {},
     "output_type": "execute_result"
    }
   ],
   "source": [
    "x_ary = [np.random.randint(10) for x in range(10)]\n",
    "x_ary"
   ]
  },
  {
   "cell_type": "code",
   "execution_count": 28,
   "id": "b0b71823",
   "metadata": {},
   "outputs": [
    {
     "data": {
      "text/plain": [
       "[1, 4, 7, 7, 9, 1, 7, 7, 9, 7]"
      ]
     },
     "execution_count": 28,
     "metadata": {},
     "output_type": "execute_result"
    }
   ],
   "source": [
    "y_ary = [np.random.randint(10) for y in range(10)]\n",
    "y_ary"
   ]
  },
  {
   "cell_type": "markdown",
   "id": "8f1954a3",
   "metadata": {},
   "source": [
    "Now we have two lists of ten randomly generated integers between 0 and 10. We can visualize this with a `scatter` plot. I chose a `.scatter()` over a regular `.plot()` because a `.plot()` graph tends to show that there is a relationship between one point and the previous one, but more on that later."
   ]
  },
  {
   "cell_type": "code",
   "execution_count": 29,
   "id": "0742f326",
   "metadata": {},
   "outputs": [
    {
     "data": {
      "text/plain": [
       "<matplotlib.collections.PathCollection at 0x7fc65f25dbb0>"
      ]
     },
     "execution_count": 29,
     "metadata": {},
     "output_type": "execute_result"
    },
    {
     "data": {
      "image/png": "[encoded data removed]",
      "text/plain": [
       "<Figure size 432x288 with 1 Axes>"
      ]
     },
     "metadata": {
      "needs_background": "light"
     },
     "output_type": "display_data"
    }
   ],
   "source": [
    "plt.scatter(x_ary, y_ary)"
   ]
  },
  {
   "cell_type": "markdown",
   "id": "5f65ed49",
   "metadata": {},
   "source": [
    "Great! We can see our data plotted in (x, y) coordinates, but what does this mean? If we were to give this data to some random individual, would this have any significance? I know that for this example there is truly no meaning to the variables, but labelling is a good habit to get into for any plot."
   ]
  },
  {
   "cell_type": "code",
   "execution_count": 30,
   "id": "d513d7cb",
   "metadata": {},
   "outputs": [
    {
     "data": {
      "text/plain": [
       "Text(0.5, 1.0, 'Scatter plot of X vs Y')"
      ]
     },
     "execution_count": 30,
     "metadata": {},
     "output_type": "execute_result"
    },
    {
     "data": {
      "image/png": "[encoded data removed]",
      "text/plain": [
       "<Figure size 432x288 with 1 Axes>"
      ]
     },
     "metadata": {
      "needs_background": "light"
     },
     "output_type": "display_data"
    }
   ],
   "source": [
    "plt.scatter(x_ary, y_ary)\n",
    "plt.xlabel(\"X values\")\n",
    "plt.ylabel(\"Y values\")\n",
    "plt.title(\"Scatter plot of X vs Y\")"
   ]
  },
  {
   "cell_type": "markdown",
   "id": "20563f0f",
   "metadata": {},
   "source": [
    "Even better, now (if your data had meaning), it would be properly communicated to whoever is viewing this and your data means a lot more than just a random scatter plot. "
   ]
  },
  {
   "cell_type": "markdown",
   "id": "7044a5ca",
   "metadata": {},
   "source": [
    "### 6.2 Other Optional Plotting Features\n",
    "Some common features we tend to use in `matplotlib` are things like changing the color, or style, of the plotted data. If we had two sets of data plotted on one figure, if they were all the same color it could be pretty confusing!"
   ]
  },
  {
   "cell_type": "code",
   "execution_count": 31,
   "id": "6770c0e2",
   "metadata": {},
   "outputs": [],
   "source": [
    "x_ary2 = [np.random.randint(10) for x in range(10)]\n",
    "y_ary2 = [np.random.randint(10) for y in range(10)]"
   ]
  },
  {
   "cell_type": "code",
   "execution_count": 32,
   "id": "dff30f38",
   "metadata": {},
   "outputs": [
    {
     "data": {
      "text/plain": [
       "Text(0.5, 1.0, 'Scatter plot of X vs Y')"
      ]
     },
     "execution_count": 32,
     "metadata": {},
     "output_type": "execute_result"
    },
    {
     "data": {
      "image/png": "[encoded data removed]",
      "text/plain": [
       "<Figure size 432x288 with 1 Axes>"
      ]
     },
     "metadata": {
      "needs_background": "light"
     },
     "output_type": "display_data"
    }
   ],
   "source": [
    "plt.scatter(x_ary, y_ary)\n",
    "plt.scatter(x_ary2, y_ary2)\n",
    "plt.xlabel(\"X values\")\n",
    "plt.ylabel(\"Y values\")\n",
    "plt.title(\"Scatter plot of X vs Y\")"
   ]
  },
  {
   "cell_type": "markdown",
   "id": "2c25c73c",
   "metadata": {},
   "source": [
    "Sometimes, in cases like this, `matplotlib` is smart enough to automatically color the points for us. But if we want to do more, we can look up the documentation for [scatter](https://matplotlib.org/devdocs/api/_as_gen/matplotlib.pyplot.scatter.html) to see what else we can do with it. (The same goes for any type of plotting function, some functions may have specific arguments for that plotting type!)\n",
    "\n",
    "The following shows how the graph is affected by these changes, for example with some of these changes we actually see that at the point (3,3), there is both a red and a blue point, something we didn't see previously. **This is not to say that there is a one-size-fits-all approach to plotting with additional features**. This will almost always be different depending on the outcome you want to emphasize, and the data you want to convey to the reader."
   ]
  },
  {
   "cell_type": "code",
   "execution_count": 33,
   "id": "f1ed4037",
   "metadata": {},
   "outputs": [
    {
     "data": {
      "text/plain": [
       "Text(0.5, 1.0, 'Scatter plot of X vs Y')"
      ]
     },
     "execution_count": 33,
     "metadata": {},
     "output_type": "execute_result"
    },
    {
     "data": {
      "image/png": "[encoded data removed]",
      "text/plain": [
       "<Figure size 720x576 with 1 Axes>"
      ]
     },
     "metadata": {
      "needs_background": "light"
     },
     "output_type": "display_data"
    }
   ],
   "source": [
    "plt.figure(figsize=[10,8])\n",
    "plt.scatter(x_ary, y_ary, marker='x')\n",
    "plt.scatter(x_ary2, y_ary2, color='red', s = 10)\n",
    "plt.xlabel(\"X values\")\n",
    "plt.ylabel(\"Y values\")\n",
    "plt.title(\"Scatter plot of X vs Y\")"
   ]
  },
  {
   "cell_type": "markdown",
   "id": "2da848ce",
   "metadata": {},
   "source": [
    "### 6.3 The Subplot\n",
    "Rather than combine multiple datasets or lines onto one plot, we can make [subplots](https://matplotlib.org/stable/api/_as_gen/matplotlib.pyplot.subplot.html), which is multiple plots on the same figure. The common uses for subplots compared to making multiple plots are readability and the ability to share common axes.\n",
    "\n",
    "The standard procedure to creating subplots is <br>\n",
    "`plt.subplot(rows, cols, position)`, where position is a number between 1 and `rows*cols`\n",
    "\n",
    "The following example can be found in the Day 7 In-Class Assignment:"
   ]
  },
  {
   "cell_type": "code",
   "execution_count": 34,
   "id": "52b2ce16",
   "metadata": {},
   "outputs": [
    {
     "data": {
      "image/png": "[encoded data removed]",
      "text/plain": [
       "<Figure size 576x720 with 6 Axes>"
      ]
     },
     "metadata": {
      "needs_background": "light"
     },
     "output_type": "display_data"
    }
   ],
   "source": [
    "# initialize lists\n",
    "x_list = []\n",
    "y1 = []\n",
    "y2 = []\n",
    "y3 = []\n",
    "y4 = []\n",
    "y5 = []\n",
    "y6 = []\n",
    "\n",
    "# fill lists with values\n",
    "for i in range(100):\n",
    "    x = i*0.1\n",
    "    x_list.append(x)\n",
    "    y1.append(math.sin(x))\n",
    "    y2.append(math.sin(2*x))\n",
    "    y3.append(math.sin(3*x))\n",
    "    y4.append(math.sin(4*x))\n",
    "    y5.append(math.sin(5*x))\n",
    "    y6.append(math.sin(6*x))\n",
    "\n",
    "# makes a single figure that is 8 in wide and 10 in tall\n",
    "plt.figure(figsize=(8,10))\n",
    "plt.suptitle('A bunch of sine plots')  # title for the whole figure\n",
    "\n",
    "\n",
    "# plot each curve on a separate subplot\n",
    "plt.subplot(3,2,1) # Generate the 1st subplot of a 3x2 set of plots\n",
    "plt.plot(x_list, y1, color='red') # plot points in the first subplot\n",
    "plt.xlabel('x')\n",
    "plt.ylabel('y')\n",
    "plt.title('y=sin(x)')  # title for 1st subplot\n",
    "\n",
    "plt.subplot(3,2,2) # Generate the 2nd subplot of a 3x2 set of plots\n",
    "plt.plot(x_list, y2, color='blue') # plot points in the second subplot\n",
    "plt.xlabel('x')\n",
    "plt.ylabel('y')\n",
    "plt.title('y=sin(2x)')\n",
    "\n",
    "plt.subplot(3,2,3) # Generate the 3rd subplot of a 3x2 set of plots\n",
    "plt.plot(x_list, y3, color='green') # plot points in the third subplot\n",
    "plt.xlabel('x')\n",
    "plt.ylabel('y')\n",
    "plt.title('y=sin(3x)')\n",
    "\n",
    "plt.subplot(3,2,4) # Generate the 4th subplot of a 3x2 set of plots\n",
    "plt.plot(x_list, y4, color='orange') # plot points in the fourth subplot\n",
    "plt.xlabel('x')\n",
    "plt.ylabel('y')\n",
    "plt.title('y=sin(4x)')\n",
    "\n",
    "plt.subplot(3,2,5) # Generate the 5th subplot of a 3x2 set of plots\n",
    "plt.plot(x_list, y5, color='black') # plot points in the fifth subplot\n",
    "plt.xlabel('x')\n",
    "plt.ylabel('y')\n",
    "plt.title('y=sin(5x)')\n",
    "\n",
    "plt.subplot(3,2,6) # Generate the 6th subplot of a 3x2 set of plots\n",
    "plt.plot(x_list, y6, color='purple') # plot points in the sixth subplot\n",
    "plt.xlabel('x')\n",
    "plt.ylabel('y')\n",
    "plt.title('y=sin(6x)')\n",
    "\n",
    "plt.tight_layout()"
   ]
  },
  {
   "cell_type": "markdown",
   "id": "4c219042",
   "metadata": {},
   "source": [
    "### 6.4 Which graph to use?\n",
    "This is slightly more anecdotal, but this is my personal thinking process for how I choose what type of graph to use when visualizing my data:\n",
    "\n",
    "1. `plt.plot()`: Used when I want to visualize the relationship between two variables **over a continuous time period**.\n",
    "2. `plt.scatter()`: Used when I want to visualize the relationship between two variables **with no direct time correlation**.\n",
    "3. `plt.bar()`: Used when I want to compare the **quantity** of items from the same category (categorical).\n",
    "4. `plt.pie()`: Not very frequently used for me besides in presentations, but is very nice to quickly demonstrate the breakdowns of your categories.\n",
    "5. `plt.hist()`: Similar to the plt.bar(), but used to compare the **quantity** of numerical/continous data (continuous).\n",
    "\n",
    "When using these, I always Google the documentation and have that handy so I can see what parameters are used and see some examples."
   ]
  },
  {
   "cell_type": "markdown",
   "id": "17983afd",
   "metadata": {},
   "source": [
    "<a id='numpy'></a>\n",
    "# 7. NumPy [(To Top)](#top)"
   ]
  },
  {
   "cell_type": "code",
   "execution_count": 35,
   "id": "3994903f",
   "metadata": {},
   "outputs": [],
   "source": [
    "import numpy as np"
   ]
  },
  {
   "cell_type": "markdown",
   "id": "073dcab7",
   "metadata": {},
   "source": [
    "### 7.1 `loadtxt()`\n",
    "The NumPy `loadtxt()` function can read in most types of files, so long as the proper parameters are passed in. The major difference between this and Pandas data loading is that `loadtxt()` unpacks data into NumPy arrays for our use. Unfortunately, this very generic file unpacking method means we often need to provide additional information as parameters to our function. In the [documentation](https://numpy.org/doc/stable/reference/generated/numpy.loadtxt.html) for `loadtxt()`, we often use the parameters for `skiprows`, `delimeter`, and `encoding` depending on the type of file we wish to decode."
   ]
  },
  {
   "cell_type": "markdown",
   "id": "93038ddf",
   "metadata": {},
   "source": [
    "### 7.2 Arrays\n",
    "Arrays are the main data structure used in NumPy. The array is very similar to a list, and they can sometimes be used in place of each other, but not always. \n",
    "\n",
    "Lists can store multiple different data types in them, just like a junk drawer in the house. The array is more specialized. It only holds one data type at a time. NumPy is smart enough to try and convert all data to a common ground, if strings and integers are both in an array they will all become strings."
   ]
  },
  {
   "cell_type": "markdown",
   "id": "158ed0e6",
   "metadata": {},
   "source": [
    "Arrays have a few different ways to interact with them depending on how many dimensions they have. First, we look at the 1-Dimensional array.\n",
    "\n",
    "### 7.2.1 1-D Arrays"
   ]
  },
  {
   "cell_type": "code",
   "execution_count": 36,
   "id": "be611598",
   "metadata": {},
   "outputs": [
    {
     "data": {
      "text/plain": [
       "array([0, 1, 2, 3, 4, 5, 6, 7, 8, 9])"
      ]
     },
     "execution_count": 36,
     "metadata": {},
     "output_type": "execute_result"
    }
   ],
   "source": [
    "a = np.arange(0,10)\n",
    "a"
   ]
  },
  {
   "cell_type": "markdown",
   "id": "6b2308a6",
   "metadata": {},
   "source": [
    "With 1-D arrays, we can mostly index and slice them like we would a list, with the `ary[start:stop:step]` notation. The default assumption for this notation is `start = 0`, `stop = len(array)`, `step = 1`."
   ]
  },
  {
   "cell_type": "code",
   "execution_count": 37,
   "id": "e266c20e",
   "metadata": {},
   "outputs": [
    {
     "name": "stdout",
     "output_type": "stream",
     "text": [
      "[0 1 2]\n",
      "[7 8 9]\n",
      "[2 3 4 5]\n",
      "[0 1 2 3 4]\n",
      "[0 2 4 6 8]\n",
      "[9 8 7 6 5 4 3 2 1 0]\n"
     ]
    }
   ],
   "source": [
    "# First 3 values\n",
    "print(a[:3])\n",
    "\n",
    "# Last 3 values\n",
    "print(a[-3:])\n",
    "\n",
    "# Some elements from the middle\n",
    "print(a[2:6])\n",
    "\n",
    "# First half of the array\n",
    "print(a[:5])\n",
    "\n",
    "# Every second item\n",
    "print(a[::2])\n",
    "\n",
    "# Print the array in backwards order (useful to remember!)\n",
    "print(a[::-1])"
   ]
  },
  {
   "cell_type": "markdown",
   "id": "3ecdb2b0",
   "metadata": {},
   "source": [
    "### 7.2.2 2-D Arrays\n",
    "For a 2-D array, we can mostly apply the same principles, but twice!\n",
    "\n",
    "If we iterated through a row (A 1-D array) with `ary[start:stop:step]`, we can iterate through a 2-D array with `ary[start_row:stop_row:step_row, start_col:stop_col:step_col]`.\n",
    "\n",
    "Again, the default assumptions for both of these are the same as above. To indicate you want to select all rows/columns, place a `:` in the respective side of the comma (left side for rows, right side for columns)."
   ]
  },
  {
   "cell_type": "code",
   "execution_count": 38,
   "id": "e3c070b8",
   "metadata": {},
   "outputs": [
    {
     "data": {
      "text/plain": [
       "array([[1, 2, 3],\n",
       "       [4, 5, 6],\n",
       "       [7, 8, 9]])"
      ]
     },
     "execution_count": 38,
     "metadata": {},
     "output_type": "execute_result"
    }
   ],
   "source": [
    "b = np.array([[1,2,3],[4,5,6],[7,8,9]])\n",
    "b"
   ]
  },
  {
   "cell_type": "code",
   "execution_count": 39,
   "id": "ce2fcd2a",
   "metadata": {},
   "outputs": [
    {
     "name": "stdout",
     "output_type": "stream",
     "text": [
      "[1 2 3]\n",
      "[2 5 8]\n",
      "5\n",
      "[7 9]\n",
      "[[5 6]\n",
      " [8 9]]\n",
      "[[7 8 9]\n",
      " [4 5 6]\n",
      " [1 2 3]]\n",
      "[[3 2 1]\n",
      " [6 5 4]\n",
      " [9 8 7]]\n"
     ]
    }
   ],
   "source": [
    "# Print the first row\n",
    "print(b[0])\n",
    "\n",
    "# Print the second column\n",
    "print(b[:, 1])\n",
    "\n",
    "# Print the middle element (5)\n",
    "print(b[1,1])\n",
    "\n",
    "# Print every other element of the third row\n",
    "print(b[2,::2])\n",
    "\n",
    "# Print a square array of the last two rows and columns\n",
    "print(b[1:, 1:])\n",
    "\n",
    "# Reverse the rows\n",
    "print(b[::-1, :])\n",
    "\n",
    "# Reverse the columns\n",
    "print(b[:, ::-1])"
   ]
  },
  {
   "cell_type": "markdown",
   "id": "c5bbccdf",
   "metadata": {},
   "source": [
    "### 7.3 Helpful NumPy Functions to Remember\n",
    "These are some fairly common NumPy functions that are worth remembering how to use (or Google!) in times of need.\n",
    "\n",
    "1. `np.arange(start, stop, step)`: Returns an array of numbers from `start` to `stop` in increments/steps of `step`.\n",
    "2. `np.linspace(start, stop, num)`: Returns an array of `num` evenly spaced numbers from `start` to `stop`.\n",
    "3. `np.zeros(n)` and `np.ones(n)`: Returns an array of `n` zeros or ones, respectively.\n",
    "4. `np.polyfit(x, y, deg)`: Returns an output of a degree `deg` polynomial that best fits the points (`x`,`y`) through minimization of squared error.\n",
    "5. `np.nan`: Constant for a \"not a number\" value."
   ]
  },
  {
   "cell_type": "markdown",
   "id": "467e4f37",
   "metadata": {},
   "source": [
    "<a id='mask'></a>\n",
    "# 8. Masking [(To Top)](#top)\n",
    "A quick reminder on masking, as it can help us for both NumPy and Pandas. The steps to masking are:\n",
    "1. Define the mask\n",
    "2. Apply the mask to the data\n",
    "3. Print our new, masked data!\n",
    "\n",
    "An example in both NumPy and Pandas will be shown:"
   ]
  },
  {
   "cell_type": "markdown",
   "id": "e4ba8535",
   "metadata": {},
   "source": [
    "### 8.1 NumPy\n"
   ]
  },
  {
   "cell_type": "code",
   "execution_count": 40,
   "id": "044312d1",
   "metadata": {},
   "outputs": [
    {
     "data": {
      "text/plain": [
       "array([3, 7, 5, 4])"
      ]
     },
     "execution_count": 40,
     "metadata": {},
     "output_type": "execute_result"
    }
   ],
   "source": [
    "values = np.array([1, 3, 7, 5, 2, 4])\n",
    "\n",
    "values_mask = values > 2 # Step 1, define a mask\n",
    "\n",
    "masked_data = values[values_mask] # Step 2, apply the mask\n",
    "\n",
    "masked_data # Step 3, display our new data!"
   ]
  },
  {
   "cell_type": "code",
   "execution_count": 41,
   "id": "bb285cac",
   "metadata": {},
   "outputs": [
    {
     "name": "stdout",
     "output_type": "stream",
     "text": [
      "[False  True  True  True False  True]\n"
     ]
    }
   ],
   "source": [
    "print(values_mask)"
   ]
  },
  {
   "cell_type": "markdown",
   "id": "849d2d60",
   "metadata": {},
   "source": [
    "As we can see here, we have selected only the values that satisfy our given condition, or our mask. The mask essentially loops through each value in the data, and checks if the value would return True or False for our given Boolean condition. The mask then stores that data as an array of Trues and Falses. When we pass the mask to our array, a new array is formed of **only** the values that returned True."
   ]
  },
  {
   "cell_type": "markdown",
   "id": "02b5aadd",
   "metadata": {},
   "source": [
    "### 8.2 Pandas\n",
    "The following imports the `Auto` dataset, a commonly used dataset in statistical learning."
   ]
  },
  {
   "cell_type": "code",
   "execution_count": 42,
   "id": "61640086",
   "metadata": {},
   "outputs": [
    {
     "data": {
      "text/html": [
       "<div>\n",
       "<style scoped>\n",
       "    .dataframe tbody tr th:only-of-type {\n",
       "        vertical-align: middle;\n",
       "    }\n",
       "\n",
       "    .dataframe tbody tr th {\n",
       "        vertical-align: top;\n",
       "    }\n",
       "\n",
       "    .dataframe thead th {\n",
       "        text-align: right;\n",
       "    }\n",
       "</style>\n",
       "<table border=\"1\" class=\"dataframe\">\n",
       "  <thead>\n",
       "    <tr style=\"text-align: right;\">\n",
       "      <th></th>\n",
       "      <th>mpg</th>\n",
       "      <th>cylinders</th>\n",
       "      <th>displacement</th>\n",
       "      <th>horsepower</th>\n",
       "      <th>weight</th>\n",
       "      <th>acceleration</th>\n",
       "      <th>year</th>\n",
       "      <th>origin</th>\n",
       "      <th>name</th>\n",
       "    </tr>\n",
       "  </thead>\n",
       "  <tbody>\n",
       "    <tr>\n",
       "      <th>0</th>\n",
       "      <td>18.0</td>\n",
       "      <td>8</td>\n",
       "      <td>307.0</td>\n",
       "      <td>130</td>\n",
       "      <td>3504</td>\n",
       "      <td>12.0</td>\n",
       "      <td>70</td>\n",
       "      <td>1</td>\n",
       "      <td>chevrolet chevelle malibu</td>\n",
       "    </tr>\n",
       "    <tr>\n",
       "      <th>1</th>\n",
       "      <td>15.0</td>\n",
       "      <td>8</td>\n",
       "      <td>350.0</td>\n",
       "      <td>165</td>\n",
       "      <td>3693</td>\n",
       "      <td>11.5</td>\n",
       "      <td>70</td>\n",
       "      <td>1</td>\n",
       "      <td>buick skylark 320</td>\n",
       "    </tr>\n",
       "    <tr>\n",
       "      <th>2</th>\n",
       "      <td>18.0</td>\n",
       "      <td>8</td>\n",
       "      <td>318.0</td>\n",
       "      <td>150</td>\n",
       "      <td>3436</td>\n",
       "      <td>11.0</td>\n",
       "      <td>70</td>\n",
       "      <td>1</td>\n",
       "      <td>plymouth satellite</td>\n",
       "    </tr>\n",
       "    <tr>\n",
       "      <th>3</th>\n",
       "      <td>16.0</td>\n",
       "      <td>8</td>\n",
       "      <td>304.0</td>\n",
       "      <td>150</td>\n",
       "      <td>3433</td>\n",
       "      <td>12.0</td>\n",
       "      <td>70</td>\n",
       "      <td>1</td>\n",
       "      <td>amc rebel sst</td>\n",
       "    </tr>\n",
       "    <tr>\n",
       "      <th>4</th>\n",
       "      <td>17.0</td>\n",
       "      <td>8</td>\n",
       "      <td>302.0</td>\n",
       "      <td>140</td>\n",
       "      <td>3449</td>\n",
       "      <td>10.5</td>\n",
       "      <td>70</td>\n",
       "      <td>1</td>\n",
       "      <td>ford torino</td>\n",
       "    </tr>\n",
       "  </tbody>\n",
       "</table>\n",
       "</div>"
      ],
      "text/plain": [
       "    mpg  cylinders  displacement horsepower  weight  acceleration  year  \\\n",
       "0  18.0          8         307.0        130    3504          12.0    70   \n",
       "1  15.0          8         350.0        165    3693          11.5    70   \n",
       "2  18.0          8         318.0        150    3436          11.0    70   \n",
       "3  16.0          8         304.0        150    3433          12.0    70   \n",
       "4  17.0          8         302.0        140    3449          10.5    70   \n",
       "\n",
       "   origin                       name  \n",
       "0       1  chevrolet chevelle malibu  \n",
       "1       1          buick skylark 320  \n",
       "2       1         plymouth satellite  \n",
       "3       1              amc rebel sst  \n",
       "4       1                ford torino  "
      ]
     },
     "execution_count": 42,
     "metadata": {},
     "output_type": "execute_result"
    }
   ],
   "source": [
    "auto = pd.read_csv('https://raw.githubusercontent.com/jacknuge28/Projects/main/Datasets/Auto.csv')\n",
    "auto.head()"
   ]
  },
  {
   "cell_type": "code",
   "execution_count": 43,
   "id": "c0f46f9f",
   "metadata": {},
   "outputs": [
    {
     "data": {
      "text/html": [
       "<div>\n",
       "<style scoped>\n",
       "    .dataframe tbody tr th:only-of-type {\n",
       "        vertical-align: middle;\n",
       "    }\n",
       "\n",
       "    .dataframe tbody tr th {\n",
       "        vertical-align: top;\n",
       "    }\n",
       "\n",
       "    .dataframe thead th {\n",
       "        text-align: right;\n",
       "    }\n",
       "</style>\n",
       "<table border=\"1\" class=\"dataframe\">\n",
       "  <thead>\n",
       "    <tr style=\"text-align: right;\">\n",
       "      <th></th>\n",
       "      <th>mpg</th>\n",
       "      <th>cylinders</th>\n",
       "      <th>displacement</th>\n",
       "      <th>weight</th>\n",
       "      <th>acceleration</th>\n",
       "      <th>year</th>\n",
       "      <th>origin</th>\n",
       "    </tr>\n",
       "  </thead>\n",
       "  <tbody>\n",
       "    <tr>\n",
       "      <th>count</th>\n",
       "      <td>397.000000</td>\n",
       "      <td>397.000000</td>\n",
       "      <td>397.000000</td>\n",
       "      <td>397.000000</td>\n",
       "      <td>397.000000</td>\n",
       "      <td>397.000000</td>\n",
       "      <td>397.000000</td>\n",
       "    </tr>\n",
       "    <tr>\n",
       "      <th>mean</th>\n",
       "      <td>23.515869</td>\n",
       "      <td>5.458438</td>\n",
       "      <td>193.532746</td>\n",
       "      <td>2970.261965</td>\n",
       "      <td>15.555668</td>\n",
       "      <td>75.994962</td>\n",
       "      <td>1.574307</td>\n",
       "    </tr>\n",
       "    <tr>\n",
       "      <th>std</th>\n",
       "      <td>7.825804</td>\n",
       "      <td>1.701577</td>\n",
       "      <td>104.379583</td>\n",
       "      <td>847.904119</td>\n",
       "      <td>2.749995</td>\n",
       "      <td>3.690005</td>\n",
       "      <td>0.802549</td>\n",
       "    </tr>\n",
       "    <tr>\n",
       "      <th>min</th>\n",
       "      <td>9.000000</td>\n",
       "      <td>3.000000</td>\n",
       "      <td>68.000000</td>\n",
       "      <td>1613.000000</td>\n",
       "      <td>8.000000</td>\n",
       "      <td>70.000000</td>\n",
       "      <td>1.000000</td>\n",
       "    </tr>\n",
       "    <tr>\n",
       "      <th>25%</th>\n",
       "      <td>17.500000</td>\n",
       "      <td>4.000000</td>\n",
       "      <td>104.000000</td>\n",
       "      <td>2223.000000</td>\n",
       "      <td>13.800000</td>\n",
       "      <td>73.000000</td>\n",
       "      <td>1.000000</td>\n",
       "    </tr>\n",
       "    <tr>\n",
       "      <th>50%</th>\n",
       "      <td>23.000000</td>\n",
       "      <td>4.000000</td>\n",
       "      <td>146.000000</td>\n",
       "      <td>2800.000000</td>\n",
       "      <td>15.500000</td>\n",
       "      <td>76.000000</td>\n",
       "      <td>1.000000</td>\n",
       "    </tr>\n",
       "    <tr>\n",
       "      <th>75%</th>\n",
       "      <td>29.000000</td>\n",
       "      <td>8.000000</td>\n",
       "      <td>262.000000</td>\n",
       "      <td>3609.000000</td>\n",
       "      <td>17.100000</td>\n",
       "      <td>79.000000</td>\n",
       "      <td>2.000000</td>\n",
       "    </tr>\n",
       "    <tr>\n",
       "      <th>max</th>\n",
       "      <td>46.600000</td>\n",
       "      <td>8.000000</td>\n",
       "      <td>455.000000</td>\n",
       "      <td>5140.000000</td>\n",
       "      <td>24.800000</td>\n",
       "      <td>82.000000</td>\n",
       "      <td>3.000000</td>\n",
       "    </tr>\n",
       "  </tbody>\n",
       "</table>\n",
       "</div>"
      ],
      "text/plain": [
       "              mpg   cylinders  displacement       weight  acceleration  \\\n",
       "count  397.000000  397.000000    397.000000   397.000000    397.000000   \n",
       "mean    23.515869    5.458438    193.532746  2970.261965     15.555668   \n",
       "std      7.825804    1.701577    104.379583   847.904119      2.749995   \n",
       "min      9.000000    3.000000     68.000000  1613.000000      8.000000   \n",
       "25%     17.500000    4.000000    104.000000  2223.000000     13.800000   \n",
       "50%     23.000000    4.000000    146.000000  2800.000000     15.500000   \n",
       "75%     29.000000    8.000000    262.000000  3609.000000     17.100000   \n",
       "max     46.600000    8.000000    455.000000  5140.000000     24.800000   \n",
       "\n",
       "             year      origin  \n",
       "count  397.000000  397.000000  \n",
       "mean    75.994962    1.574307  \n",
       "std      3.690005    0.802549  \n",
       "min     70.000000    1.000000  \n",
       "25%     73.000000    1.000000  \n",
       "50%     76.000000    1.000000  \n",
       "75%     79.000000    2.000000  \n",
       "max     82.000000    3.000000  "
      ]
     },
     "execution_count": 43,
     "metadata": {},
     "output_type": "execute_result"
    }
   ],
   "source": [
    "auto.describe()"
   ]
  },
  {
   "cell_type": "markdown",
   "id": "78d1cd4f",
   "metadata": {},
   "source": [
    "The `Auto` dataset contains data for 397 cars. If we wanted to find only the cars that get at least 23 mpg, we can set up a mask!"
   ]
  },
  {
   "cell_type": "code",
   "execution_count": 44,
   "id": "ace6036a",
   "metadata": {},
   "outputs": [
    {
     "data": {
      "text/html": [
       "<div>\n",
       "<style scoped>\n",
       "    .dataframe tbody tr th:only-of-type {\n",
       "        vertical-align: middle;\n",
       "    }\n",
       "\n",
       "    .dataframe tbody tr th {\n",
       "        vertical-align: top;\n",
       "    }\n",
       "\n",
       "    .dataframe thead th {\n",
       "        text-align: right;\n",
       "    }\n",
       "</style>\n",
       "<table border=\"1\" class=\"dataframe\">\n",
       "  <thead>\n",
       "    <tr style=\"text-align: right;\">\n",
       "      <th></th>\n",
       "      <th>mpg</th>\n",
       "      <th>cylinders</th>\n",
       "      <th>displacement</th>\n",
       "      <th>horsepower</th>\n",
       "      <th>weight</th>\n",
       "      <th>acceleration</th>\n",
       "      <th>year</th>\n",
       "      <th>origin</th>\n",
       "      <th>name</th>\n",
       "    </tr>\n",
       "  </thead>\n",
       "  <tbody>\n",
       "    <tr>\n",
       "      <th>14</th>\n",
       "      <td>24.0</td>\n",
       "      <td>4</td>\n",
       "      <td>113.0</td>\n",
       "      <td>95</td>\n",
       "      <td>2372</td>\n",
       "      <td>15.0</td>\n",
       "      <td>70</td>\n",
       "      <td>3</td>\n",
       "      <td>toyota corona mark ii</td>\n",
       "    </tr>\n",
       "    <tr>\n",
       "      <th>18</th>\n",
       "      <td>27.0</td>\n",
       "      <td>4</td>\n",
       "      <td>97.0</td>\n",
       "      <td>88</td>\n",
       "      <td>2130</td>\n",
       "      <td>14.5</td>\n",
       "      <td>70</td>\n",
       "      <td>3</td>\n",
       "      <td>datsun pl510</td>\n",
       "    </tr>\n",
       "    <tr>\n",
       "      <th>19</th>\n",
       "      <td>26.0</td>\n",
       "      <td>4</td>\n",
       "      <td>97.0</td>\n",
       "      <td>46</td>\n",
       "      <td>1835</td>\n",
       "      <td>20.5</td>\n",
       "      <td>70</td>\n",
       "      <td>2</td>\n",
       "      <td>volkswagen 1131 deluxe sedan</td>\n",
       "    </tr>\n",
       "    <tr>\n",
       "      <th>20</th>\n",
       "      <td>25.0</td>\n",
       "      <td>4</td>\n",
       "      <td>110.0</td>\n",
       "      <td>87</td>\n",
       "      <td>2672</td>\n",
       "      <td>17.5</td>\n",
       "      <td>70</td>\n",
       "      <td>2</td>\n",
       "      <td>peugeot 504</td>\n",
       "    </tr>\n",
       "    <tr>\n",
       "      <th>21</th>\n",
       "      <td>24.0</td>\n",
       "      <td>4</td>\n",
       "      <td>107.0</td>\n",
       "      <td>90</td>\n",
       "      <td>2430</td>\n",
       "      <td>14.5</td>\n",
       "      <td>70</td>\n",
       "      <td>2</td>\n",
       "      <td>audi 100 ls</td>\n",
       "    </tr>\n",
       "    <tr>\n",
       "      <th>...</th>\n",
       "      <td>...</td>\n",
       "      <td>...</td>\n",
       "      <td>...</td>\n",
       "      <td>...</td>\n",
       "      <td>...</td>\n",
       "      <td>...</td>\n",
       "      <td>...</td>\n",
       "      <td>...</td>\n",
       "      <td>...</td>\n",
       "    </tr>\n",
       "    <tr>\n",
       "      <th>392</th>\n",
       "      <td>27.0</td>\n",
       "      <td>4</td>\n",
       "      <td>140.0</td>\n",
       "      <td>86</td>\n",
       "      <td>2790</td>\n",
       "      <td>15.6</td>\n",
       "      <td>82</td>\n",
       "      <td>1</td>\n",
       "      <td>ford mustang gl</td>\n",
       "    </tr>\n",
       "    <tr>\n",
       "      <th>393</th>\n",
       "      <td>44.0</td>\n",
       "      <td>4</td>\n",
       "      <td>97.0</td>\n",
       "      <td>52</td>\n",
       "      <td>2130</td>\n",
       "      <td>24.6</td>\n",
       "      <td>82</td>\n",
       "      <td>2</td>\n",
       "      <td>vw pickup</td>\n",
       "    </tr>\n",
       "    <tr>\n",
       "      <th>394</th>\n",
       "      <td>32.0</td>\n",
       "      <td>4</td>\n",
       "      <td>135.0</td>\n",
       "      <td>84</td>\n",
       "      <td>2295</td>\n",
       "      <td>11.6</td>\n",
       "      <td>82</td>\n",
       "      <td>1</td>\n",
       "      <td>dodge rampage</td>\n",
       "    </tr>\n",
       "    <tr>\n",
       "      <th>395</th>\n",
       "      <td>28.0</td>\n",
       "      <td>4</td>\n",
       "      <td>120.0</td>\n",
       "      <td>79</td>\n",
       "      <td>2625</td>\n",
       "      <td>18.6</td>\n",
       "      <td>82</td>\n",
       "      <td>1</td>\n",
       "      <td>ford ranger</td>\n",
       "    </tr>\n",
       "    <tr>\n",
       "      <th>396</th>\n",
       "      <td>31.0</td>\n",
       "      <td>4</td>\n",
       "      <td>119.0</td>\n",
       "      <td>82</td>\n",
       "      <td>2720</td>\n",
       "      <td>19.4</td>\n",
       "      <td>82</td>\n",
       "      <td>1</td>\n",
       "      <td>chevy s-10</td>\n",
       "    </tr>\n",
       "  </tbody>\n",
       "</table>\n",
       "<p>191 rows × 9 columns</p>\n",
       "</div>"
      ],
      "text/plain": [
       "      mpg  cylinders  displacement horsepower  weight  acceleration  year  \\\n",
       "14   24.0          4         113.0         95    2372          15.0    70   \n",
       "18   27.0          4          97.0         88    2130          14.5    70   \n",
       "19   26.0          4          97.0         46    1835          20.5    70   \n",
       "20   25.0          4         110.0         87    2672          17.5    70   \n",
       "21   24.0          4         107.0         90    2430          14.5    70   \n",
       "..    ...        ...           ...        ...     ...           ...   ...   \n",
       "392  27.0          4         140.0         86    2790          15.6    82   \n",
       "393  44.0          4          97.0         52    2130          24.6    82   \n",
       "394  32.0          4         135.0         84    2295          11.6    82   \n",
       "395  28.0          4         120.0         79    2625          18.6    82   \n",
       "396  31.0          4         119.0         82    2720          19.4    82   \n",
       "\n",
       "     origin                          name  \n",
       "14        3         toyota corona mark ii  \n",
       "18        3                  datsun pl510  \n",
       "19        2  volkswagen 1131 deluxe sedan  \n",
       "20        2                   peugeot 504  \n",
       "21        2                   audi 100 ls  \n",
       "..      ...                           ...  \n",
       "392       1               ford mustang gl  \n",
       "393       2                     vw pickup  \n",
       "394       1                 dodge rampage  \n",
       "395       1                   ford ranger  \n",
       "396       1                    chevy s-10  \n",
       "\n",
       "[191 rows x 9 columns]"
      ]
     },
     "execution_count": 44,
     "metadata": {},
     "output_type": "execute_result"
    }
   ],
   "source": [
    "mpg_mask = auto['mpg'] > 23 # Step 1, define the mask\n",
    "masked_auto = auto[mpg_mask] # Step 2, apply the mask\n",
    "masked_auto # Step 3, print the new data!"
   ]
  },
  {
   "cell_type": "markdown",
   "id": "5edcad80",
   "metadata": {},
   "source": [
    "Notice now we only have 191 rows of data, but our index column still shows the initial position of the data. This is fine for now, the index doesn't always matter, but if you want to fix this you can run the following line:"
   ]
  },
  {
   "cell_type": "code",
   "execution_count": 45,
   "id": "b6a57c6c",
   "metadata": {},
   "outputs": [
    {
     "data": {
      "text/html": [
       "<div>\n",
       "<style scoped>\n",
       "    .dataframe tbody tr th:only-of-type {\n",
       "        vertical-align: middle;\n",
       "    }\n",
       "\n",
       "    .dataframe tbody tr th {\n",
       "        vertical-align: top;\n",
       "    }\n",
       "\n",
       "    .dataframe thead th {\n",
       "        text-align: right;\n",
       "    }\n",
       "</style>\n",
       "<table border=\"1\" class=\"dataframe\">\n",
       "  <thead>\n",
       "    <tr style=\"text-align: right;\">\n",
       "      <th></th>\n",
       "      <th>index</th>\n",
       "      <th>mpg</th>\n",
       "      <th>cylinders</th>\n",
       "      <th>displacement</th>\n",
       "      <th>horsepower</th>\n",
       "      <th>weight</th>\n",
       "      <th>acceleration</th>\n",
       "      <th>year</th>\n",
       "      <th>origin</th>\n",
       "      <th>name</th>\n",
       "    </tr>\n",
       "  </thead>\n",
       "  <tbody>\n",
       "    <tr>\n",
       "      <th>0</th>\n",
       "      <td>14</td>\n",
       "      <td>24.0</td>\n",
       "      <td>4</td>\n",
       "      <td>113.0</td>\n",
       "      <td>95</td>\n",
       "      <td>2372</td>\n",
       "      <td>15.0</td>\n",
       "      <td>70</td>\n",
       "      <td>3</td>\n",
       "      <td>toyota corona mark ii</td>\n",
       "    </tr>\n",
       "    <tr>\n",
       "      <th>1</th>\n",
       "      <td>18</td>\n",
       "      <td>27.0</td>\n",
       "      <td>4</td>\n",
       "      <td>97.0</td>\n",
       "      <td>88</td>\n",
       "      <td>2130</td>\n",
       "      <td>14.5</td>\n",
       "      <td>70</td>\n",
       "      <td>3</td>\n",
       "      <td>datsun pl510</td>\n",
       "    </tr>\n",
       "    <tr>\n",
       "      <th>2</th>\n",
       "      <td>19</td>\n",
       "      <td>26.0</td>\n",
       "      <td>4</td>\n",
       "      <td>97.0</td>\n",
       "      <td>46</td>\n",
       "      <td>1835</td>\n",
       "      <td>20.5</td>\n",
       "      <td>70</td>\n",
       "      <td>2</td>\n",
       "      <td>volkswagen 1131 deluxe sedan</td>\n",
       "    </tr>\n",
       "    <tr>\n",
       "      <th>3</th>\n",
       "      <td>20</td>\n",
       "      <td>25.0</td>\n",
       "      <td>4</td>\n",
       "      <td>110.0</td>\n",
       "      <td>87</td>\n",
       "      <td>2672</td>\n",
       "      <td>17.5</td>\n",
       "      <td>70</td>\n",
       "      <td>2</td>\n",
       "      <td>peugeot 504</td>\n",
       "    </tr>\n",
       "    <tr>\n",
       "      <th>4</th>\n",
       "      <td>21</td>\n",
       "      <td>24.0</td>\n",
       "      <td>4</td>\n",
       "      <td>107.0</td>\n",
       "      <td>90</td>\n",
       "      <td>2430</td>\n",
       "      <td>14.5</td>\n",
       "      <td>70</td>\n",
       "      <td>2</td>\n",
       "      <td>audi 100 ls</td>\n",
       "    </tr>\n",
       "  </tbody>\n",
       "</table>\n",
       "</div>"
      ],
      "text/plain": [
       "   index   mpg  cylinders  displacement horsepower  weight  acceleration  \\\n",
       "0     14  24.0          4         113.0         95    2372          15.0   \n",
       "1     18  27.0          4          97.0         88    2130          14.5   \n",
       "2     19  26.0          4          97.0         46    1835          20.5   \n",
       "3     20  25.0          4         110.0         87    2672          17.5   \n",
       "4     21  24.0          4         107.0         90    2430          14.5   \n",
       "\n",
       "   year  origin                          name  \n",
       "0    70       3         toyota corona mark ii  \n",
       "1    70       3                  datsun pl510  \n",
       "2    70       2  volkswagen 1131 deluxe sedan  \n",
       "3    70       2                   peugeot 504  \n",
       "4    70       2                   audi 100 ls  "
      ]
     },
     "execution_count": 45,
     "metadata": {},
     "output_type": "execute_result"
    }
   ],
   "source": [
    "masked_auto = masked_auto.reset_index()\n",
    "masked_auto.head()"
   ]
  },
  {
   "cell_type": "markdown",
   "id": "e7b684b2",
   "metadata": {},
   "source": [
    "The only tricky thing to keep in mind for masking on Pandas DataFrames is making sure you mask on a specific column. If you try to mask on the entire DataFrame, you may run into errors!"
   ]
  },
  {
   "cell_type": "markdown",
   "id": "137bf33c",
   "metadata": {},
   "source": [
    "<a id='pandas'></a>\n",
    "# 9. Pandas [(To Top)](#top)\n",
    "The bread and butter of data analysis in Python. Some useful references to working with Pandas are:\n",
    "1. [The 10-Minute Pandas Tutorial](https://pandas.pydata.org/pandas-docs/stable/user_guide/10min.html)\n",
    "2. The [Pandas Website](https://pandas.pydata.org/)\n",
    "\n",
    "There are far too many topics in Pandas to cover here, so I'll do my best to cover some important/common functions, and a walkthrough of how I approach data analysis with Pandas."
   ]
  },
  {
   "cell_type": "markdown",
   "id": "e9aff751",
   "metadata": {},
   "source": [
    "### 9.1 Common Pandas Functions\n",
    "These are really basic overviews of what the functions can be used for. To customize them more, Google the documentation for additional parameters.\n",
    "\n",
    "1. `pd.read_csv()`: The common function we use to read .csv data. This returns a Pandas `DataFrame`, a nicely structured object in Python that looks like a spreadsheet! (There are other functions such as `read_json()` and `read_excel()` for different datatypes).\n",
    "2. `df.head(n)`: Displays the first `n` rows of data from `df`.\n",
    "3. `df.tail(n)`: Displays the last `n` rows of data from `df`.\n",
    "4. `df.describe()`: Displays summary statistics for `df`\n",
    "5. `df['column_name']`: Displays a DataFrame of a single column from your data.\n",
    "6. `df.index = df['column_name']`: A quick method of using a column's values as your index rather than the default numbering system.\n",
    "7. `df.columns = []`: Renames the columns of `df` to the names passed into the list.\n",
    "8. `df.iloc[row_idx, col_idx]`: Returns the value(s) at the given row, col. These can be ranges such as `df.iloc[1:3, :]` for all columns in rows 1 through 3. **Used to access data by its indices/position.**\n",
    "9. `df.loc[row_name, col_name]`: Returns the value(s) at the given row, col. These can be ranges such as `df.loc['row_name1:row_name2, col_name1:col_name2]` **Used to access data by it's label/name.**\n",
    "10. `df.dropna()`: Removes rows/columns that contain missing values."
   ]
  },
  {
   "cell_type": "markdown",
   "id": "35a36668",
   "metadata": {},
   "source": [
    "### 9.2 My Steps for Analysis\n",
    "A brief walkthrough of the first things I tend to do when looking at a new/unfamiliar dataset:\n",
    "1. Load the data with the appropriate Pandas function.\n",
    "2. Call `df.head()` and `df.describe()` to see what I'm working with.\n",
    "3. Determine what I want to do with missing data, generally I choose to just drop these values from the data, but some people replace the missing value with a mean/median for that column.\n",
    "4. Determine what I want to find out from this data (if there are no given questions).\n",
    "5. From the questions I am given/come up with, create appropriate plots to determine a conclusion for the task (For example, if I was asked to show if there was a correlation between the mpg of a car and its weight, I would plot weight on the x-axis and mpg on the y-axis and see if there was any relationship).\n",
    "\n",
    "Make sure you can explain your findings! Conclusions don't matter if you can't convey them to someone who hasn't poured over the data as much as you have.\n",
    "\n",
    "**Example**"
   ]
  },
  {
   "cell_type": "markdown",
   "id": "26a0d834",
   "metadata": {},
   "source": [
    "First we load in our data and call `.head()` to see what features, or columns, each entry has. We can see that each entry has 9 variables total."
   ]
  },
  {
   "cell_type": "code",
   "execution_count": 46,
   "id": "dad030f0",
   "metadata": {},
   "outputs": [
    {
     "data": {
      "text/html": [
       "<div>\n",
       "<style scoped>\n",
       "    .dataframe tbody tr th:only-of-type {\n",
       "        vertical-align: middle;\n",
       "    }\n",
       "\n",
       "    .dataframe tbody tr th {\n",
       "        vertical-align: top;\n",
       "    }\n",
       "\n",
       "    .dataframe thead th {\n",
       "        text-align: right;\n",
       "    }\n",
       "</style>\n",
       "<table border=\"1\" class=\"dataframe\">\n",
       "  <thead>\n",
       "    <tr style=\"text-align: right;\">\n",
       "      <th></th>\n",
       "      <th>mpg</th>\n",
       "      <th>cylinders</th>\n",
       "      <th>displacement</th>\n",
       "      <th>horsepower</th>\n",
       "      <th>weight</th>\n",
       "      <th>acceleration</th>\n",
       "      <th>year</th>\n",
       "      <th>origin</th>\n",
       "      <th>name</th>\n",
       "    </tr>\n",
       "  </thead>\n",
       "  <tbody>\n",
       "    <tr>\n",
       "      <th>0</th>\n",
       "      <td>18.0</td>\n",
       "      <td>8</td>\n",
       "      <td>307.0</td>\n",
       "      <td>130</td>\n",
       "      <td>3504</td>\n",
       "      <td>12.0</td>\n",
       "      <td>70</td>\n",
       "      <td>1</td>\n",
       "      <td>chevrolet chevelle malibu</td>\n",
       "    </tr>\n",
       "    <tr>\n",
       "      <th>1</th>\n",
       "      <td>15.0</td>\n",
       "      <td>8</td>\n",
       "      <td>350.0</td>\n",
       "      <td>165</td>\n",
       "      <td>3693</td>\n",
       "      <td>11.5</td>\n",
       "      <td>70</td>\n",
       "      <td>1</td>\n",
       "      <td>buick skylark 320</td>\n",
       "    </tr>\n",
       "    <tr>\n",
       "      <th>2</th>\n",
       "      <td>18.0</td>\n",
       "      <td>8</td>\n",
       "      <td>318.0</td>\n",
       "      <td>150</td>\n",
       "      <td>3436</td>\n",
       "      <td>11.0</td>\n",
       "      <td>70</td>\n",
       "      <td>1</td>\n",
       "      <td>plymouth satellite</td>\n",
       "    </tr>\n",
       "    <tr>\n",
       "      <th>3</th>\n",
       "      <td>16.0</td>\n",
       "      <td>8</td>\n",
       "      <td>304.0</td>\n",
       "      <td>150</td>\n",
       "      <td>3433</td>\n",
       "      <td>12.0</td>\n",
       "      <td>70</td>\n",
       "      <td>1</td>\n",
       "      <td>amc rebel sst</td>\n",
       "    </tr>\n",
       "    <tr>\n",
       "      <th>4</th>\n",
       "      <td>17.0</td>\n",
       "      <td>8</td>\n",
       "      <td>302.0</td>\n",
       "      <td>140</td>\n",
       "      <td>3449</td>\n",
       "      <td>10.5</td>\n",
       "      <td>70</td>\n",
       "      <td>1</td>\n",
       "      <td>ford torino</td>\n",
       "    </tr>\n",
       "  </tbody>\n",
       "</table>\n",
       "</div>"
      ],
      "text/plain": [
       "    mpg  cylinders  displacement horsepower  weight  acceleration  year  \\\n",
       "0  18.0          8         307.0        130    3504          12.0    70   \n",
       "1  15.0          8         350.0        165    3693          11.5    70   \n",
       "2  18.0          8         318.0        150    3436          11.0    70   \n",
       "3  16.0          8         304.0        150    3433          12.0    70   \n",
       "4  17.0          8         302.0        140    3449          10.5    70   \n",
       "\n",
       "   origin                       name  \n",
       "0       1  chevrolet chevelle malibu  \n",
       "1       1          buick skylark 320  \n",
       "2       1         plymouth satellite  \n",
       "3       1              amc rebel sst  \n",
       "4       1                ford torino  "
      ]
     },
     "execution_count": 46,
     "metadata": {},
     "output_type": "execute_result"
    }
   ],
   "source": [
    "auto = pd.read_csv('https://raw.githubusercontent.com/jacknuge28/Projects/main/Datasets/Auto.csv')\n",
    "auto.head()"
   ]
  },
  {
   "cell_type": "markdown",
   "id": "cb9f8721",
   "metadata": {},
   "source": [
    "Now that we've broken down the data a bit, we can call `.describe()` to get more insight into each **numerical** variable (We can't find the mean of a category like `name`)."
   ]
  },
  {
   "cell_type": "code",
   "execution_count": 47,
   "id": "2ed63106",
   "metadata": {},
   "outputs": [
    {
     "data": {
      "text/html": [
       "<div>\n",
       "<style scoped>\n",
       "    .dataframe tbody tr th:only-of-type {\n",
       "        vertical-align: middle;\n",
       "    }\n",
       "\n",
       "    .dataframe tbody tr th {\n",
       "        vertical-align: top;\n",
       "    }\n",
       "\n",
       "    .dataframe thead th {\n",
       "        text-align: right;\n",
       "    }\n",
       "</style>\n",
       "<table border=\"1\" class=\"dataframe\">\n",
       "  <thead>\n",
       "    <tr style=\"text-align: right;\">\n",
       "      <th></th>\n",
       "      <th>mpg</th>\n",
       "      <th>cylinders</th>\n",
       "      <th>displacement</th>\n",
       "      <th>weight</th>\n",
       "      <th>acceleration</th>\n",
       "      <th>year</th>\n",
       "      <th>origin</th>\n",
       "    </tr>\n",
       "  </thead>\n",
       "  <tbody>\n",
       "    <tr>\n",
       "      <th>count</th>\n",
       "      <td>397.000000</td>\n",
       "      <td>397.000000</td>\n",
       "      <td>397.000000</td>\n",
       "      <td>397.000000</td>\n",
       "      <td>397.000000</td>\n",
       "      <td>397.000000</td>\n",
       "      <td>397.000000</td>\n",
       "    </tr>\n",
       "    <tr>\n",
       "      <th>mean</th>\n",
       "      <td>23.515869</td>\n",
       "      <td>5.458438</td>\n",
       "      <td>193.532746</td>\n",
       "      <td>2970.261965</td>\n",
       "      <td>15.555668</td>\n",
       "      <td>75.994962</td>\n",
       "      <td>1.574307</td>\n",
       "    </tr>\n",
       "    <tr>\n",
       "      <th>std</th>\n",
       "      <td>7.825804</td>\n",
       "      <td>1.701577</td>\n",
       "      <td>104.379583</td>\n",
       "      <td>847.904119</td>\n",
       "      <td>2.749995</td>\n",
       "      <td>3.690005</td>\n",
       "      <td>0.802549</td>\n",
       "    </tr>\n",
       "    <tr>\n",
       "      <th>min</th>\n",
       "      <td>9.000000</td>\n",
       "      <td>3.000000</td>\n",
       "      <td>68.000000</td>\n",
       "      <td>1613.000000</td>\n",
       "      <td>8.000000</td>\n",
       "      <td>70.000000</td>\n",
       "      <td>1.000000</td>\n",
       "    </tr>\n",
       "    <tr>\n",
       "      <th>25%</th>\n",
       "      <td>17.500000</td>\n",
       "      <td>4.000000</td>\n",
       "      <td>104.000000</td>\n",
       "      <td>2223.000000</td>\n",
       "      <td>13.800000</td>\n",
       "      <td>73.000000</td>\n",
       "      <td>1.000000</td>\n",
       "    </tr>\n",
       "    <tr>\n",
       "      <th>50%</th>\n",
       "      <td>23.000000</td>\n",
       "      <td>4.000000</td>\n",
       "      <td>146.000000</td>\n",
       "      <td>2800.000000</td>\n",
       "      <td>15.500000</td>\n",
       "      <td>76.000000</td>\n",
       "      <td>1.000000</td>\n",
       "    </tr>\n",
       "    <tr>\n",
       "      <th>75%</th>\n",
       "      <td>29.000000</td>\n",
       "      <td>8.000000</td>\n",
       "      <td>262.000000</td>\n",
       "      <td>3609.000000</td>\n",
       "      <td>17.100000</td>\n",
       "      <td>79.000000</td>\n",
       "      <td>2.000000</td>\n",
       "    </tr>\n",
       "    <tr>\n",
       "      <th>max</th>\n",
       "      <td>46.600000</td>\n",
       "      <td>8.000000</td>\n",
       "      <td>455.000000</td>\n",
       "      <td>5140.000000</td>\n",
       "      <td>24.800000</td>\n",
       "      <td>82.000000</td>\n",
       "      <td>3.000000</td>\n",
       "    </tr>\n",
       "  </tbody>\n",
       "</table>\n",
       "</div>"
      ],
      "text/plain": [
       "              mpg   cylinders  displacement       weight  acceleration  \\\n",
       "count  397.000000  397.000000    397.000000   397.000000    397.000000   \n",
       "mean    23.515869    5.458438    193.532746  2970.261965     15.555668   \n",
       "std      7.825804    1.701577    104.379583   847.904119      2.749995   \n",
       "min      9.000000    3.000000     68.000000  1613.000000      8.000000   \n",
       "25%     17.500000    4.000000    104.000000  2223.000000     13.800000   \n",
       "50%     23.000000    4.000000    146.000000  2800.000000     15.500000   \n",
       "75%     29.000000    8.000000    262.000000  3609.000000     17.100000   \n",
       "max     46.600000    8.000000    455.000000  5140.000000     24.800000   \n",
       "\n",
       "             year      origin  \n",
       "count  397.000000  397.000000  \n",
       "mean    75.994962    1.574307  \n",
       "std      3.690005    0.802549  \n",
       "min     70.000000    1.000000  \n",
       "25%     73.000000    1.000000  \n",
       "50%     76.000000    1.000000  \n",
       "75%     79.000000    2.000000  \n",
       "max     82.000000    3.000000  "
      ]
     },
     "execution_count": 47,
     "metadata": {},
     "output_type": "execute_result"
    }
   ],
   "source": [
    "auto.describe()"
   ]
  },
  {
   "cell_type": "markdown",
   "id": "c04ca9f2",
   "metadata": {},
   "source": [
    "Something we notice here is that `horsepower` doesn't show up! We can check to see the datatype of `horsepower` fairly easily."
   ]
  },
  {
   "cell_type": "code",
   "execution_count": 48,
   "id": "cf3847e6",
   "metadata": {},
   "outputs": [
    {
     "data": {
      "text/plain": [
       "mpg             float64\n",
       "cylinders         int64\n",
       "displacement    float64\n",
       "horsepower       object\n",
       "weight            int64\n",
       "acceleration    float64\n",
       "year              int64\n",
       "origin            int64\n",
       "name             object\n",
       "dtype: object"
      ]
     },
     "execution_count": 48,
     "metadata": {},
     "output_type": "execute_result"
    }
   ],
   "source": [
    "auto.dtypes"
   ]
  },
  {
   "cell_type": "markdown",
   "id": "f976e59c",
   "metadata": {},
   "source": [
    "Here we can see that `horsepower` is, for some reason, of the type \"object\" rather than of \"int\" or \"float\", meaning something is likely wrong with the data, or it may contain things like a \"?\" in place of missing data. If you want to try your hand at cleaning the data, go for it! But for now, we'll just look at other columns.\n",
    "\n",
    "If I wanted to see if there was a relationship between `weight` and `mpg`, I could plot a simple scatter plot of the two variables."
   ]
  },
  {
   "cell_type": "code",
   "execution_count": 49,
   "id": "84194167",
   "metadata": {},
   "outputs": [
    {
     "data": {
      "text/plain": [
       "Text(0.5, 1.0, 'Weight vs MPG in Auto Dataset')"
      ]
     },
     "execution_count": 49,
     "metadata": {},
     "output_type": "execute_result"
    },
    {
     "data": {
      "image/png": "[encoded data removed]",
      "text/plain": [
       "<Figure size 432x288 with 1 Axes>"
      ]
     },
     "metadata": {
      "needs_background": "light"
     },
     "output_type": "display_data"
    }
   ],
   "source": [
    "plt.scatter(auto['weight'], auto['mpg'])\n",
    "plt.xlabel(\"Weight\")\n",
    "plt.ylabel(\"Miles per Gallon\")\n",
    "plt.title(\"Weight vs MPG in Auto Dataset\")"
   ]
  },
  {
   "cell_type": "markdown",
   "id": "759ee717",
   "metadata": {},
   "source": [
    "We can see from this plot that there does seem to be a correlation where, as `weight` increases, `mpg` decreases. More can be done to find the actual slope of the best fit line, and you can always repeat this process for more pairs of variables, but this was a simple demonstration as to how I approach a foreign dataset!"
   ]
  },
  {
   "cell_type": "markdown",
   "id": "7a16a1fe",
   "metadata": {},
   "source": [
    "<a id='mathheavy'></a>\n",
    "# 10. Math Heavy Functions [(To Top)](#top)\n",
    "Some of the tools we've used so far are a bit more involved with math, such as `curve_fit()` and `solve_ivp()`. This section will be used as a quick reminder as to how those functions work."
   ]
  },
  {
   "cell_type": "markdown",
   "id": "292a4e0d",
   "metadata": {},
   "source": [
    "### 10.1 `curve_fit()`\n",
    "SciPy's `curve_fit()` function takes in three main arguments: a function, the x_data, and the y_data. `curve_fit()` returns two values, an array of coefficient values for your line (we call this `popt`) and a covariance matrix (we call this `pcov`), but we can ignore the covariance matrix for the purposes of this class.\n",
    "\n",
    "**Note**: Pay attention to the optional `p0` argument. This can be helpful if your `popt` array is returning all ones when that clearly doesn't match with your data.\n",
    "\n",
    "\n",
    "#### Example"
   ]
  },
  {
   "cell_type": "code",
   "execution_count": 50,
   "id": "7f9be980",
   "metadata": {},
   "outputs": [],
   "source": [
    "from scipy.optimize import curve_fit"
   ]
  },
  {
   "cell_type": "markdown",
   "id": "49bd9634",
   "metadata": {},
   "source": [
    "To start, we first need x and y data. (Taken from [SciPy's documentation](https://docs.scipy.org/doc/scipy/reference/generated/scipy.optimize.curve_fit.html))"
   ]
  },
  {
   "cell_type": "code",
   "execution_count": 51,
   "id": "3d2d1f62",
   "metadata": {},
   "outputs": [
    {
     "data": {
      "text/plain": [
       "[<matplotlib.lines.Line2D at 0x7fc6546b8f10>]"
      ]
     },
     "execution_count": 51,
     "metadata": {},
     "output_type": "execute_result"
    },
    {
     "data": {
      "image/png": "[encoded data removed]",
      "text/plain": [
       "<Figure size 432x288 with 1 Axes>"
      ]
     },
     "metadata": {
      "needs_background": "light"
     },
     "output_type": "display_data"
    }
   ],
   "source": [
    "# a* e^(-b*x) + c\n",
    "def func(x, a, b, c):\n",
    "    return a * np.exp(-b * x) + c\n",
    "\n",
    "xdata = np.linspace(0, 4, 50)\n",
    "y = func(xdata, 2.5, 1.3, 0.5)\n",
    "rng = np.random.default_rng()\n",
    "y_noise = 0.2 * rng.normal(size=xdata.size)\n",
    "ydata = y + y_noise\n",
    "plt.plot(xdata, ydata, '-', label='data')"
   ]
  },
  {
   "cell_type": "markdown",
   "id": "fbb0e433",
   "metadata": {},
   "source": [
    "Next, we want to fit our line for the parameters of `func()`. "
   ]
  },
  {
   "cell_type": "code",
   "execution_count": 52,
   "id": "408335fd",
   "metadata": {},
   "outputs": [
    {
     "data": {
      "text/plain": [
       "array([2.53260738, 1.59348196, 0.57111427])"
      ]
     },
     "execution_count": 52,
     "metadata": {},
     "output_type": "execute_result"
    }
   ],
   "source": [
    "popt, pcov = curve_fit(func, xdata, ydata)\n",
    "popt"
   ]
  },
  {
   "cell_type": "markdown",
   "id": "57891134",
   "metadata": {},
   "source": [
    "The array returned by `popt` will give us the predicted coefficient values for our line of best fit. Since `func()` takes, in order, `a`, `b`, `c`, the `popt` array is stored as `array([a, b, c])`. We can now index `popt` to get our variables and pass that back into `func()` to generate our line of best fit."
   ]
  },
  {
   "cell_type": "code",
   "execution_count": 53,
   "id": "4e4c149a",
   "metadata": {},
   "outputs": [
    {
     "data": {
      "text/plain": [
       "<matplotlib.legend.Legend at 0x7fc65420be50>"
      ]
     },
     "execution_count": 53,
     "metadata": {},
     "output_type": "execute_result"
    },
    {
     "data": {
      "image/png": "[encoded data removed]",
      "text/plain": [
       "<Figure size 432x288 with 1 Axes>"
      ]
     },
     "metadata": {
      "needs_background": "light"
     },
     "output_type": "display_data"
    }
   ],
   "source": [
    "a = popt[0]\n",
    "b = popt[1]\n",
    "c = popt[2]\n",
    "\n",
    "y_fit = func(xdata, a,b,c)\n",
    "plt.scatter(xdata, ydata, label='Raw Data')\n",
    "plt.plot(xdata, y_fit, c='r', label='Line of Best Fit')\n",
    "plt.legend()"
   ]
  },
  {
   "cell_type": "markdown",
   "id": "abadc4a6",
   "metadata": {},
   "source": [
    "#### Method for Goodness of Fit\n",
    "We now have a line of best fit for our randomly generated data! We can see that this line *looks* fine, but if we had multiple lines, how do we determine what the best model actually is? \n",
    "\n",
    "One method to determine goodness of fit is to use the \"Sum of Squared Residuals\" (also known as residual sum of squares). A residual is the distance an observed data point is from our line (the distance from the actual from the predicted). By squaring the residual value, we can eliminate the issue of a positive and negative residual cancelling each other out. The mathematical formula for the residual sum of squares (RSS) of a dataset of $n$ points looks like:\n",
    "\n",
    "$$ RSS = \\sum_{i=1}^{n} (y_i - f(x_i))^2$$\n",
    "\n",
    "Where $y_i$ is our actual value and $f(x_i)$ is our predicted value. The smaller the RSS, the better the line fits our data. Between two lines of best fit, you want to **pick the one that minimizes RSS**. "
   ]
  },
  {
   "cell_type": "markdown",
   "id": "98fe6c48",
   "metadata": {},
   "source": [
    "### 10.2 `solve_ivp()`"
   ]
  },
  {
   "cell_type": "markdown",
   "id": "4ef33962",
   "metadata": {},
   "source": [
    "SciPy's `solve_ivp()` function takes in three main arguments: a function, a range of times in the form `[t_start, t_end]`, and the initial state. `solve_ivp()` returns two values, an array `y` of time points (`t`) and an array of points evaluated at `t`. We often refer to the initial state as `curr_vals` in classroom examples.\n",
    "\n",
    "This function will solve an initial value problem for a system of ODEs."
   ]
  },
  {
   "cell_type": "markdown",
   "id": "e309cfcc",
   "metadata": {},
   "source": [
    "#### Reminder: What is an ODE?\n",
    "An ODE (**O**rdinary **D**ifferential **E**quation) is a differential equation that involves a function(s) of an independent variable **and** the derivatives of those functions.\n",
    "\n",
    "An update equation is an equation that uses the derivative (or slope) of some quantity to approximate a future value of the quantity. The general form of an update equation will look something like\n",
    "\n",
    "$$\n",
    "x_2 = x_1 + \\frac{dx}{dt} \\Delta{t}\n",
    "$$\n",
    "\n",
    "Which, in plain terms, means \"$x_2$ is equal to $x_1$ plus the change in $x$ times the size of the timestep\""
   ]
  },
  {
   "cell_type": "markdown",
   "id": "c78cf78f",
   "metadata": {},
   "source": [
    "#### Example\n",
    "Taken from Day 17 PCA."
   ]
  },
  {
   "cell_type": "code",
   "execution_count": 54,
   "id": "216ec62c",
   "metadata": {},
   "outputs": [],
   "source": [
    "# Derivative function\n",
    "def derivs(time,curr_vals):\n",
    "    \n",
    "    # Declare parameters\n",
    "    g = -9.81 # m/s^2\n",
    "    \n",
    "    # Unpack the current values of the variables we wish to \"update\" from the curr_vals list\n",
    "    h, v = curr_vals\n",
    "    \n",
    "    # Right-hand side of odes, which are used to computer the derivative\n",
    "    dhdt = v\n",
    "    dvdt = g\n",
    "    \n",
    "    return dhdt, dvdt"
   ]
  },
  {
   "cell_type": "code",
   "execution_count": 55,
   "id": "4c151c25",
   "metadata": {},
   "outputs": [
    {
     "data": {
      "image/png": "[encoded data removed]",
      "text/plain": [
       "<Figure size 432x288 with 1 Axes>"
      ]
     },
     "metadata": {
      "needs_background": "light"
     },
     "output_type": "display_data"
    },
    {
     "data": {
      "image/png": "[encoded data removed]",
      "text/plain": [
       "<Figure size 432x288 with 1 Axes>"
      ]
     },
     "metadata": {
      "needs_background": "light"
     },
     "output_type": "display_data"
    }
   ],
   "source": [
    "# Import commands\n",
    "import numpy as np\n",
    "import matplotlib.pyplot as plt\n",
    "%matplotlib inline\n",
    "from scipy.integrate import solve_ivp # This one is new to you!\n",
    "\n",
    "# Declare Variables for initial conditions\n",
    "h0 = 3000 # meters\n",
    "v0 = 0 # m/s\n",
    "tmax = 10 # seconds\n",
    "dt = 1 # seconds\n",
    "\n",
    "# Define the time array\n",
    "time = np.arange(0, tmax + dt, dt)\n",
    "\n",
    "# Store the initial values in a list\n",
    "init = [h0, v0]\n",
    "\n",
    "# Solve the odes with solve_ivp\n",
    "sol = solve_ivp(derivs,(0,tmax),init,t_eval = time)\n",
    "    \n",
    "# Plot the results using the values stored in the solution variable, \"sol\"\n",
    "\n",
    "# Plot the height using the \"0\" element from the solution\n",
    "plt.figure(1)\n",
    "plt.plot(time, sol.y[0,:],color=\"green\")\n",
    "plt.xlabel('Time [s]')\n",
    "plt.ylabel('Height [m]')\n",
    "plt.grid()\n",
    "\n",
    "# Plot the velocity using the \\\"1\\\" element from the solution\n",
    "plt.figure(2)\n",
    "plt.plot(time, sol.y[1,:],color=\"purple\")\n",
    "plt.xlabel('Time [s]')\n",
    "plt.ylabel('Velocity [m/s]')\n",
    "plt.grid()"
   ]
  },
  {
   "cell_type": "code",
   "execution_count": null,
   "id": "748f94c0",
   "metadata": {},
   "outputs": [],
   "source": []
  }
 ],
 "metadata": {
  "kernelspec": {
   "display_name": "Python 3",
   "language": "python",
   "name": "python3"
  },
  "language_info": {
   "codemirror_mode": {
    "name": "ipython",
    "version": 3
   },
   "file_extension": ".py",
   "mimetype": "text/x-python",
   "name": "python",
   "nbconvert_exporter": "python",
   "pygments_lexer": "ipython3",
   "version": "3.8.8"
  }
 },
 "nbformat": 4,
 "nbformat_minor": 5
}
